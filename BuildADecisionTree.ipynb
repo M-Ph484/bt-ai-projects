{
 "cells": [
  {
   "cell_type": "markdown",
   "metadata": {},
   "source": [
    "# Assignment 3: Building a Decision Tree After Feature Transformations"
   ]
  },
  {
   "cell_type": "code",
   "execution_count": 1,
   "metadata": {},
   "outputs": [],
   "source": [
    "import pandas as pd\n",
    "import numpy as np\n",
    "import os \n",
    "import matplotlib.pyplot as plt\n",
    "import seaborn as sns\n",
    "\n",
    "from sklearn.model_selection import train_test_split \n",
    "from sklearn.preprocessing import OneHotEncoder \n",
    "from sklearn.tree import DecisionTreeClassifier\n",
    "from sklearn.metrics import accuracy_score\n"
   ]
  },
  {
   "cell_type": "markdown",
   "metadata": {},
   "source": [
    "In this assignment, you will implement the following steps to build a Decision Tree classification model:\n",
    "\n",
    "1. Load the \"cell2celltrain\" data set\n",
    "2. Convert categorical features to one-hot encoded values\n",
    "3. Split the data into training and test sets\n",
    "4. Fit a Decision Tree classifier and evaluate the accuracy of its predictions\n",
    "5. Plot the training set accuracy"
   ]
  },
  {
   "cell_type": "markdown",
   "metadata": {},
   "source": [
    "## Part 1. Load the Data Set"
   ]
  },
  {
   "cell_type": "markdown",
   "metadata": {},
   "source": [
    "We will work with the \"cell2celltrain\" data set."
   ]
  },
  {
   "cell_type": "code",
   "execution_count": 2,
   "metadata": {},
   "outputs": [],
   "source": [
    "# Do not remove or edit the line below:\n",
    "filename = os.path.join(os.getcwd(), \"data\", \"cell2celltrain.csv\")"
   ]
  },
  {
   "cell_type": "markdown",
   "metadata": {},
   "source": [
    "**Task**: Load the data and save it to DataFrame `df`."
   ]
  },
  {
   "cell_type": "code",
   "execution_count": 3,
   "metadata": {},
   "outputs": [],
   "source": [
    "# YOUR CODE HERE\n",
    "df = pd.read_csv(filename, header=0)"
   ]
  },
  {
   "cell_type": "markdown",
   "metadata": {},
   "source": [
    "**Task**: Display the shape of `df` -- that is, the number of records (rows) and variables (columns)"
   ]
  },
  {
   "cell_type": "code",
   "execution_count": 4,
   "metadata": {},
   "outputs": [
    {
     "data": {
      "text/plain": [
       "(51047, 58)"
      ]
     },
     "execution_count": 4,
     "metadata": {},
     "output_type": "execute_result"
    }
   ],
   "source": [
    "# YOUR CODE HERE\n",
    "df.shape"
   ]
  },
  {
   "cell_type": "markdown",
   "metadata": {},
   "source": [
    " For the purpose of this assignment, we will remove the `Married` column due to missing values"
   ]
  },
  {
   "cell_type": "code",
   "execution_count": 5,
   "metadata": {},
   "outputs": [],
   "source": [
    "df.drop(columns = ['Married'], inplace=True)"
   ]
  },
  {
   "cell_type": "markdown",
   "metadata": {},
   "source": [
    "## Part 2. One-Hot Encode Categorical Values\n"
   ]
  },
  {
   "cell_type": "markdown",
   "metadata": {},
   "source": [
    "To implement a decision tree model, we must first transform the string-valued categorical features into numerical boolean values using one-hot encoding."
   ]
  },
  {
   "cell_type": "markdown",
   "metadata": {},
   "source": [
    "### a. Find the Columns Containing String Values"
   ]
  },
  {
   "cell_type": "code",
   "execution_count": 6,
   "metadata": {},
   "outputs": [
    {
     "data": {
      "text/plain": [
       "CustomerID                     int64\n",
       "Churn                           bool\n",
       "ServiceArea                   object\n",
       "ChildrenInHH                    bool\n",
       "HandsetRefurbished              bool\n",
       "HandsetWebCapable               bool\n",
       "TruckOwner                      bool\n",
       "RVOwner                         bool\n",
       "HomeownershipKnown              bool\n",
       "BuysViaMailOrder                bool\n",
       "RespondsToMailOffers            bool\n",
       "OptOutMailings                  bool\n",
       "NonUSTravel                     bool\n",
       "OwnsComputer                    bool\n",
       "HasCreditCard                   bool\n",
       "NewCellphoneUser                bool\n",
       "NotNewCellphoneUser             bool\n",
       "OwnsMotorcycle                  bool\n",
       "MadeCallToRetentionTeam         bool\n",
       "CreditRating                  object\n",
       "PrizmCode                     object\n",
       "Occupation                    object\n",
       "MonthlyRevenue               float64\n",
       "MonthlyMinutes               float64\n",
       "TotalRecurringCharge         float64\n",
       "DirectorAssistedCalls        float64\n",
       "OverageMinutes               float64\n",
       "RoamingCalls                 float64\n",
       "PercChangeMinutes            float64\n",
       "PercChangeRevenues           float64\n",
       "DroppedCalls                 float64\n",
       "BlockedCalls                 float64\n",
       "UnansweredCalls              float64\n",
       "CustomerCareCalls            float64\n",
       "ThreewayCalls                float64\n",
       "ReceivedCalls                float64\n",
       "OutboundCalls                float64\n",
       "InboundCalls                 float64\n",
       "PeakCallsInOut               float64\n",
       "OffPeakCallsInOut            float64\n",
       "DroppedBlockedCalls          float64\n",
       "CallForwardingCalls          float64\n",
       "CallWaitingCalls             float64\n",
       "MonthsInService              float64\n",
       "UniqueSubs                   float64\n",
       "ActiveSubs                   float64\n",
       "Handsets                     float64\n",
       "HandsetModels                float64\n",
       "CurrentEquipmentDays         float64\n",
       "AgeHH1                       float64\n",
       "AgeHH2                       float64\n",
       "RetentionCalls               float64\n",
       "RetentionOffersAccepted      float64\n",
       "ReferralsMadeBySubscriber    float64\n",
       "IncomeGroup                  float64\n",
       "AdjustmentsToCreditRating    float64\n",
       "HandsetPrice                 float64\n",
       "dtype: object"
      ]
     },
     "execution_count": 6,
     "metadata": {},
     "output_type": "execute_result"
    }
   ],
   "source": [
    "df.dtypes"
   ]
  },
  {
   "cell_type": "markdown",
   "metadata": {},
   "source": [
    "**Task**: Add all of the column names whos values are of type 'object' to a list named `to_encode`."
   ]
  },
  {
   "cell_type": "code",
   "execution_count": 7,
   "metadata": {},
   "outputs": [
    {
     "name": "stdout",
     "output_type": "stream",
     "text": [
      "['ServiceArea', 'CreditRating', 'PrizmCode', 'Occupation']\n"
     ]
    }
   ],
   "source": [
    "# YOUR CODE HERE\n",
    "to_encode = list(df.select_dtypes(include=['object']).columns)\n",
    "print(to_encode)\n"
   ]
  },
  {
   "cell_type": "markdown",
   "metadata": {},
   "source": [
    "Let's take a closer look at the candidates for one-hot encoding:"
   ]
  },
  {
   "cell_type": "code",
   "execution_count": 8,
   "metadata": {},
   "outputs": [
    {
     "data": {
      "text/plain": [
       "ServiceArea     747\n",
       "CreditRating      7\n",
       "PrizmCode         4\n",
       "Occupation        8\n",
       "dtype: int64"
      ]
     },
     "execution_count": 8,
     "metadata": {},
     "output_type": "execute_result"
    }
   ],
   "source": [
    "df[to_encode].nunique()"
   ]
  },
  {
   "cell_type": "markdown",
   "metadata": {},
   "source": [
    "For all of the columns except for `ServiceArea`, it should be straightforward to replace a given column with a set of several new binary columns for each unique value. However, let's first deal with the special case of `ServiceArea`."
   ]
  },
  {
   "cell_type": "markdown",
   "metadata": {},
   "source": [
    "### b. One Hot-Encoding 'ServiceArea': The Top 10 Values"
   ]
  },
  {
   "cell_type": "markdown",
   "metadata": {},
   "source": [
    "Take a look at the number of unique values of the `ServiceArea` column. There are two many unique values in the `ServiceArea` column to attempt to create a new binary indicator column per value! \n",
    "One thing we could do is to see if some of the values in `ServiceArea` are occurring frequently. We will then one-hot encode just those frequent values."
   ]
  },
  {
   "cell_type": "markdown",
   "metadata": {},
   "source": [
    "<b>Task</b>: Get the top 10 most frequent values in 'ServiceArea' and store them in list `top_10_SA`."
   ]
  },
  {
   "cell_type": "code",
   "execution_count": 9,
   "metadata": {},
   "outputs": [
    {
     "data": {
      "text/plain": [
       "['NYCBRO917',\n",
       " 'HOUHOU281',\n",
       " 'DALDAL214',\n",
       " 'NYCMAN917',\n",
       " 'APCFCH703',\n",
       " 'DALFTW817',\n",
       " 'SANSAN210',\n",
       " 'APCSIL301',\n",
       " 'SANAUS512',\n",
       " 'SFROAK510']"
      ]
     },
     "execution_count": 9,
     "metadata": {},
     "output_type": "execute_result"
    }
   ],
   "source": [
    "# YOUR CODE HERE\n",
    "top_10_SA = list(df['ServiceArea'].value_counts().head(10).index)\n",
    "\n",
    "top_10_SA"
   ]
  },
  {
   "cell_type": "markdown",
   "metadata": {},
   "source": [
    "<b>Task</b>: Write a `for` loop that loops through every value in `top_10_SA` and creates one-hot encoded columns, titled <br>'ServiceArea + '\\_' + $<$service area value$>$'. For example, there will be a column named  'ServiceArea\\_NYCBRO917'. Use the NumPy `np.where()`function  to accomplish this."
   ]
  },
  {
   "cell_type": "code",
   "execution_count": 10,
   "metadata": {},
   "outputs": [],
   "source": [
    "# YOUR CODE HERE\n",
    "for value in top_10_SA:\n",
    "    df['ServiceArea_'+ value] = np.where(df['ServiceArea']==value,1,0)"
   ]
  },
  {
   "cell_type": "markdown",
   "metadata": {},
   "source": [
    "<b>Task</b>: \n",
    "1. Drop the original, multi-valued `ServiceArea` column from the DataFrame `df`. \n",
    "2. Remove 'ServiceArea' from the `to_encode` list."
   ]
  },
  {
   "cell_type": "code",
   "execution_count": 11,
   "metadata": {},
   "outputs": [],
   "source": [
    "# YOUR CODE HERE   \n",
    "df.drop(columns = 'ServiceArea', inplace=True)\n",
    "to_encode.remove('ServiceArea')"
   ]
  },
  {
   "cell_type": "code",
   "execution_count": 12,
   "metadata": {},
   "outputs": [
    {
     "data": {
      "text/html": [
       "<div>\n",
       "<style scoped>\n",
       "    .dataframe tbody tr th:only-of-type {\n",
       "        vertical-align: middle;\n",
       "    }\n",
       "\n",
       "    .dataframe tbody tr th {\n",
       "        vertical-align: top;\n",
       "    }\n",
       "\n",
       "    .dataframe thead th {\n",
       "        text-align: right;\n",
       "    }\n",
       "</style>\n",
       "<table border=\"1\" class=\"dataframe\">\n",
       "  <thead>\n",
       "    <tr style=\"text-align: right;\">\n",
       "      <th></th>\n",
       "      <th>CustomerID</th>\n",
       "      <th>Churn</th>\n",
       "      <th>ChildrenInHH</th>\n",
       "      <th>HandsetRefurbished</th>\n",
       "      <th>HandsetWebCapable</th>\n",
       "      <th>TruckOwner</th>\n",
       "      <th>RVOwner</th>\n",
       "      <th>HomeownershipKnown</th>\n",
       "      <th>BuysViaMailOrder</th>\n",
       "      <th>RespondsToMailOffers</th>\n",
       "      <th>...</th>\n",
       "      <th>ServiceArea_NYCBRO917</th>\n",
       "      <th>ServiceArea_HOUHOU281</th>\n",
       "      <th>ServiceArea_DALDAL214</th>\n",
       "      <th>ServiceArea_NYCMAN917</th>\n",
       "      <th>ServiceArea_APCFCH703</th>\n",
       "      <th>ServiceArea_DALFTW817</th>\n",
       "      <th>ServiceArea_SANSAN210</th>\n",
       "      <th>ServiceArea_APCSIL301</th>\n",
       "      <th>ServiceArea_SANAUS512</th>\n",
       "      <th>ServiceArea_SFROAK510</th>\n",
       "    </tr>\n",
       "  </thead>\n",
       "  <tbody>\n",
       "    <tr>\n",
       "      <th>0</th>\n",
       "      <td>3000002</td>\n",
       "      <td>True</td>\n",
       "      <td>False</td>\n",
       "      <td>False</td>\n",
       "      <td>True</td>\n",
       "      <td>False</td>\n",
       "      <td>False</td>\n",
       "      <td>True</td>\n",
       "      <td>True</td>\n",
       "      <td>True</td>\n",
       "      <td>...</td>\n",
       "      <td>0</td>\n",
       "      <td>0</td>\n",
       "      <td>0</td>\n",
       "      <td>0</td>\n",
       "      <td>0</td>\n",
       "      <td>0</td>\n",
       "      <td>0</td>\n",
       "      <td>0</td>\n",
       "      <td>0</td>\n",
       "      <td>0</td>\n",
       "    </tr>\n",
       "    <tr>\n",
       "      <th>1</th>\n",
       "      <td>3000010</td>\n",
       "      <td>True</td>\n",
       "      <td>True</td>\n",
       "      <td>False</td>\n",
       "      <td>False</td>\n",
       "      <td>False</td>\n",
       "      <td>False</td>\n",
       "      <td>True</td>\n",
       "      <td>True</td>\n",
       "      <td>True</td>\n",
       "      <td>...</td>\n",
       "      <td>0</td>\n",
       "      <td>0</td>\n",
       "      <td>0</td>\n",
       "      <td>0</td>\n",
       "      <td>0</td>\n",
       "      <td>0</td>\n",
       "      <td>0</td>\n",
       "      <td>0</td>\n",
       "      <td>0</td>\n",
       "      <td>0</td>\n",
       "    </tr>\n",
       "    <tr>\n",
       "      <th>2</th>\n",
       "      <td>3000014</td>\n",
       "      <td>False</td>\n",
       "      <td>True</td>\n",
       "      <td>False</td>\n",
       "      <td>False</td>\n",
       "      <td>False</td>\n",
       "      <td>False</td>\n",
       "      <td>False</td>\n",
       "      <td>False</td>\n",
       "      <td>False</td>\n",
       "      <td>...</td>\n",
       "      <td>0</td>\n",
       "      <td>0</td>\n",
       "      <td>0</td>\n",
       "      <td>0</td>\n",
       "      <td>0</td>\n",
       "      <td>0</td>\n",
       "      <td>0</td>\n",
       "      <td>0</td>\n",
       "      <td>0</td>\n",
       "      <td>0</td>\n",
       "    </tr>\n",
       "    <tr>\n",
       "      <th>3</th>\n",
       "      <td>3000022</td>\n",
       "      <td>False</td>\n",
       "      <td>False</td>\n",
       "      <td>False</td>\n",
       "      <td>True</td>\n",
       "      <td>False</td>\n",
       "      <td>False</td>\n",
       "      <td>True</td>\n",
       "      <td>True</td>\n",
       "      <td>True</td>\n",
       "      <td>...</td>\n",
       "      <td>0</td>\n",
       "      <td>0</td>\n",
       "      <td>0</td>\n",
       "      <td>0</td>\n",
       "      <td>0</td>\n",
       "      <td>0</td>\n",
       "      <td>0</td>\n",
       "      <td>0</td>\n",
       "      <td>0</td>\n",
       "      <td>0</td>\n",
       "    </tr>\n",
       "    <tr>\n",
       "      <th>4</th>\n",
       "      <td>3000026</td>\n",
       "      <td>True</td>\n",
       "      <td>False</td>\n",
       "      <td>False</td>\n",
       "      <td>False</td>\n",
       "      <td>False</td>\n",
       "      <td>False</td>\n",
       "      <td>True</td>\n",
       "      <td>True</td>\n",
       "      <td>True</td>\n",
       "      <td>...</td>\n",
       "      <td>0</td>\n",
       "      <td>0</td>\n",
       "      <td>0</td>\n",
       "      <td>0</td>\n",
       "      <td>0</td>\n",
       "      <td>0</td>\n",
       "      <td>0</td>\n",
       "      <td>0</td>\n",
       "      <td>0</td>\n",
       "      <td>0</td>\n",
       "    </tr>\n",
       "  </tbody>\n",
       "</table>\n",
       "<p>5 rows × 66 columns</p>\n",
       "</div>"
      ],
      "text/plain": [
       "   CustomerID  Churn  ChildrenInHH  HandsetRefurbished  HandsetWebCapable  \\\n",
       "0     3000002   True         False               False               True   \n",
       "1     3000010   True          True               False              False   \n",
       "2     3000014  False          True               False              False   \n",
       "3     3000022  False         False               False               True   \n",
       "4     3000026   True         False               False              False   \n",
       "\n",
       "   TruckOwner  RVOwner  HomeownershipKnown  BuysViaMailOrder  \\\n",
       "0       False    False                True              True   \n",
       "1       False    False                True              True   \n",
       "2       False    False               False             False   \n",
       "3       False    False                True              True   \n",
       "4       False    False                True              True   \n",
       "\n",
       "   RespondsToMailOffers  ...  ServiceArea_NYCBRO917  ServiceArea_HOUHOU281  \\\n",
       "0                  True  ...                      0                      0   \n",
       "1                  True  ...                      0                      0   \n",
       "2                 False  ...                      0                      0   \n",
       "3                  True  ...                      0                      0   \n",
       "4                  True  ...                      0                      0   \n",
       "\n",
       "   ServiceArea_DALDAL214  ServiceArea_NYCMAN917  ServiceArea_APCFCH703  \\\n",
       "0                      0                      0                      0   \n",
       "1                      0                      0                      0   \n",
       "2                      0                      0                      0   \n",
       "3                      0                      0                      0   \n",
       "4                      0                      0                      0   \n",
       "\n",
       "   ServiceArea_DALFTW817  ServiceArea_SANSAN210  ServiceArea_APCSIL301  \\\n",
       "0                      0                      0                      0   \n",
       "1                      0                      0                      0   \n",
       "2                      0                      0                      0   \n",
       "3                      0                      0                      0   \n",
       "4                      0                      0                      0   \n",
       "\n",
       "  ServiceArea_SANAUS512 ServiceArea_SFROAK510  \n",
       "0                     0                     0  \n",
       "1                     0                     0  \n",
       "2                     0                     0  \n",
       "3                     0                     0  \n",
       "4                     0                     0  \n",
       "\n",
       "[5 rows x 66 columns]"
      ]
     },
     "execution_count": 12,
     "metadata": {},
     "output_type": "execute_result"
    }
   ],
   "source": [
    "df.head()"
   ]
  },
  {
   "cell_type": "markdown",
   "metadata": {},
   "source": [
    "### c. One Hot-Encoding all Remaining Columns: All Unique Values per Column"
   ]
  },
  {
   "cell_type": "markdown",
   "metadata": {},
   "source": [
    "All other columns in `to_encode` have reasonably small numbers of unique values, so we are going to simply one-hot encode every unique value of those columns.\n",
    "\n",
    "<b>Task</b>: In the code cell below, iterate over column names and create new columns for all unique values.\n",
    "1. Use a loop to loop over the column names in `to_encode` \n",
    "2. In the loop:\n",
    "    1. Use the Pandas `pd.get_dummies()` function and save the result to variable `temp_df`\n",
    "    2. Use `df.join` to join `temp_df` with DataFrame `df`\n"
   ]
  },
  {
   "cell_type": "code",
   "execution_count": 13,
   "metadata": {},
   "outputs": [],
   "source": [
    "# YOUR CODE HERE  \n",
    "for columns in to_encode:\n",
    "    temp_df = pd.get_dummies(df[columns], prefix = columns +'_')\n",
    "    df = df.join(temp_df)"
   ]
  },
  {
   "cell_type": "code",
   "execution_count": 14,
   "metadata": {},
   "outputs": [
    {
     "data": {
      "text/html": [
       "<div>\n",
       "<style scoped>\n",
       "    .dataframe tbody tr th:only-of-type {\n",
       "        vertical-align: middle;\n",
       "    }\n",
       "\n",
       "    .dataframe tbody tr th {\n",
       "        vertical-align: top;\n",
       "    }\n",
       "\n",
       "    .dataframe thead th {\n",
       "        text-align: right;\n",
       "    }\n",
       "</style>\n",
       "<table border=\"1\" class=\"dataframe\">\n",
       "  <thead>\n",
       "    <tr style=\"text-align: right;\">\n",
       "      <th></th>\n",
       "      <th>CustomerID</th>\n",
       "      <th>Churn</th>\n",
       "      <th>ChildrenInHH</th>\n",
       "      <th>HandsetRefurbished</th>\n",
       "      <th>HandsetWebCapable</th>\n",
       "      <th>TruckOwner</th>\n",
       "      <th>RVOwner</th>\n",
       "      <th>HomeownershipKnown</th>\n",
       "      <th>BuysViaMailOrder</th>\n",
       "      <th>RespondsToMailOffers</th>\n",
       "      <th>...</th>\n",
       "      <th>PrizmCode__Suburban</th>\n",
       "      <th>PrizmCode__Town</th>\n",
       "      <th>Occupation__Clerical</th>\n",
       "      <th>Occupation__Crafts</th>\n",
       "      <th>Occupation__Homemaker</th>\n",
       "      <th>Occupation__Other</th>\n",
       "      <th>Occupation__Professional</th>\n",
       "      <th>Occupation__Retired</th>\n",
       "      <th>Occupation__Self</th>\n",
       "      <th>Occupation__Student</th>\n",
       "    </tr>\n",
       "  </thead>\n",
       "  <tbody>\n",
       "    <tr>\n",
       "      <th>0</th>\n",
       "      <td>3000002</td>\n",
       "      <td>True</td>\n",
       "      <td>False</td>\n",
       "      <td>False</td>\n",
       "      <td>True</td>\n",
       "      <td>False</td>\n",
       "      <td>False</td>\n",
       "      <td>True</td>\n",
       "      <td>True</td>\n",
       "      <td>True</td>\n",
       "      <td>...</td>\n",
       "      <td>1</td>\n",
       "      <td>0</td>\n",
       "      <td>0</td>\n",
       "      <td>0</td>\n",
       "      <td>0</td>\n",
       "      <td>0</td>\n",
       "      <td>1</td>\n",
       "      <td>0</td>\n",
       "      <td>0</td>\n",
       "      <td>0</td>\n",
       "    </tr>\n",
       "    <tr>\n",
       "      <th>1</th>\n",
       "      <td>3000010</td>\n",
       "      <td>True</td>\n",
       "      <td>True</td>\n",
       "      <td>False</td>\n",
       "      <td>False</td>\n",
       "      <td>False</td>\n",
       "      <td>False</td>\n",
       "      <td>True</td>\n",
       "      <td>True</td>\n",
       "      <td>True</td>\n",
       "      <td>...</td>\n",
       "      <td>1</td>\n",
       "      <td>0</td>\n",
       "      <td>0</td>\n",
       "      <td>0</td>\n",
       "      <td>0</td>\n",
       "      <td>0</td>\n",
       "      <td>1</td>\n",
       "      <td>0</td>\n",
       "      <td>0</td>\n",
       "      <td>0</td>\n",
       "    </tr>\n",
       "    <tr>\n",
       "      <th>2</th>\n",
       "      <td>3000014</td>\n",
       "      <td>False</td>\n",
       "      <td>True</td>\n",
       "      <td>False</td>\n",
       "      <td>False</td>\n",
       "      <td>False</td>\n",
       "      <td>False</td>\n",
       "      <td>False</td>\n",
       "      <td>False</td>\n",
       "      <td>False</td>\n",
       "      <td>...</td>\n",
       "      <td>0</td>\n",
       "      <td>1</td>\n",
       "      <td>0</td>\n",
       "      <td>1</td>\n",
       "      <td>0</td>\n",
       "      <td>0</td>\n",
       "      <td>0</td>\n",
       "      <td>0</td>\n",
       "      <td>0</td>\n",
       "      <td>0</td>\n",
       "    </tr>\n",
       "    <tr>\n",
       "      <th>3</th>\n",
       "      <td>3000022</td>\n",
       "      <td>False</td>\n",
       "      <td>False</td>\n",
       "      <td>False</td>\n",
       "      <td>True</td>\n",
       "      <td>False</td>\n",
       "      <td>False</td>\n",
       "      <td>True</td>\n",
       "      <td>True</td>\n",
       "      <td>True</td>\n",
       "      <td>...</td>\n",
       "      <td>0</td>\n",
       "      <td>0</td>\n",
       "      <td>0</td>\n",
       "      <td>0</td>\n",
       "      <td>0</td>\n",
       "      <td>1</td>\n",
       "      <td>0</td>\n",
       "      <td>0</td>\n",
       "      <td>0</td>\n",
       "      <td>0</td>\n",
       "    </tr>\n",
       "    <tr>\n",
       "      <th>4</th>\n",
       "      <td>3000026</td>\n",
       "      <td>True</td>\n",
       "      <td>False</td>\n",
       "      <td>False</td>\n",
       "      <td>False</td>\n",
       "      <td>False</td>\n",
       "      <td>False</td>\n",
       "      <td>True</td>\n",
       "      <td>True</td>\n",
       "      <td>True</td>\n",
       "      <td>...</td>\n",
       "      <td>0</td>\n",
       "      <td>0</td>\n",
       "      <td>0</td>\n",
       "      <td>0</td>\n",
       "      <td>0</td>\n",
       "      <td>0</td>\n",
       "      <td>1</td>\n",
       "      <td>0</td>\n",
       "      <td>0</td>\n",
       "      <td>0</td>\n",
       "    </tr>\n",
       "  </tbody>\n",
       "</table>\n",
       "<p>5 rows × 85 columns</p>\n",
       "</div>"
      ],
      "text/plain": [
       "   CustomerID  Churn  ChildrenInHH  HandsetRefurbished  HandsetWebCapable  \\\n",
       "0     3000002   True         False               False               True   \n",
       "1     3000010   True          True               False              False   \n",
       "2     3000014  False          True               False              False   \n",
       "3     3000022  False         False               False               True   \n",
       "4     3000026   True         False               False              False   \n",
       "\n",
       "   TruckOwner  RVOwner  HomeownershipKnown  BuysViaMailOrder  \\\n",
       "0       False    False                True              True   \n",
       "1       False    False                True              True   \n",
       "2       False    False               False             False   \n",
       "3       False    False                True              True   \n",
       "4       False    False                True              True   \n",
       "\n",
       "   RespondsToMailOffers  ...  PrizmCode__Suburban  PrizmCode__Town  \\\n",
       "0                  True  ...                    1                0   \n",
       "1                  True  ...                    1                0   \n",
       "2                 False  ...                    0                1   \n",
       "3                  True  ...                    0                0   \n",
       "4                  True  ...                    0                0   \n",
       "\n",
       "   Occupation__Clerical  Occupation__Crafts  Occupation__Homemaker  \\\n",
       "0                     0                   0                      0   \n",
       "1                     0                   0                      0   \n",
       "2                     0                   1                      0   \n",
       "3                     0                   0                      0   \n",
       "4                     0                   0                      0   \n",
       "\n",
       "   Occupation__Other  Occupation__Professional  Occupation__Retired  \\\n",
       "0                  0                         1                    0   \n",
       "1                  0                         1                    0   \n",
       "2                  0                         0                    0   \n",
       "3                  1                         0                    0   \n",
       "4                  0                         1                    0   \n",
       "\n",
       "  Occupation__Self Occupation__Student  \n",
       "0                0                   0  \n",
       "1                0                   0  \n",
       "2                0                   0  \n",
       "3                0                   0  \n",
       "4                0                   0  \n",
       "\n",
       "[5 rows x 85 columns]"
      ]
     },
     "execution_count": 14,
     "metadata": {},
     "output_type": "execute_result"
    }
   ],
   "source": [
    "df.head()"
   ]
  },
  {
   "cell_type": "markdown",
   "metadata": {},
   "source": [
    "<b>Task</b>: Remove all the original columns from DataFrame `df`"
   ]
  },
  {
   "cell_type": "code",
   "execution_count": 15,
   "metadata": {},
   "outputs": [],
   "source": [
    "# YOUR CODE HERE\n",
    "df.drop(columns = 'CreditRating', inplace=True)\n",
    "df.drop(columns = 'PrizmCode', inplace=True)\n",
    "df.drop(columns = 'Occupation', inplace=True)\n"
   ]
  },
  {
   "cell_type": "code",
   "execution_count": 16,
   "metadata": {},
   "outputs": [
    {
     "data": {
      "text/plain": [
       "Index(['CustomerID', 'Churn', 'ChildrenInHH', 'HandsetRefurbished',\n",
       "       'HandsetWebCapable', 'TruckOwner', 'RVOwner', 'HomeownershipKnown',\n",
       "       'BuysViaMailOrder', 'RespondsToMailOffers', 'OptOutMailings',\n",
       "       'NonUSTravel', 'OwnsComputer', 'HasCreditCard', 'NewCellphoneUser',\n",
       "       'NotNewCellphoneUser', 'OwnsMotorcycle', 'MadeCallToRetentionTeam',\n",
       "       'MonthlyRevenue', 'MonthlyMinutes', 'TotalRecurringCharge',\n",
       "       'DirectorAssistedCalls', 'OverageMinutes', 'RoamingCalls',\n",
       "       'PercChangeMinutes', 'PercChangeRevenues', 'DroppedCalls',\n",
       "       'BlockedCalls', 'UnansweredCalls', 'CustomerCareCalls', 'ThreewayCalls',\n",
       "       'ReceivedCalls', 'OutboundCalls', 'InboundCalls', 'PeakCallsInOut',\n",
       "       'OffPeakCallsInOut', 'DroppedBlockedCalls', 'CallForwardingCalls',\n",
       "       'CallWaitingCalls', 'MonthsInService', 'UniqueSubs', 'ActiveSubs',\n",
       "       'Handsets', 'HandsetModels', 'CurrentEquipmentDays', 'AgeHH1', 'AgeHH2',\n",
       "       'RetentionCalls', 'RetentionOffersAccepted',\n",
       "       'ReferralsMadeBySubscriber', 'IncomeGroup', 'AdjustmentsToCreditRating',\n",
       "       'HandsetPrice', 'ServiceArea_NYCBRO917', 'ServiceArea_HOUHOU281',\n",
       "       'ServiceArea_DALDAL214', 'ServiceArea_NYCMAN917',\n",
       "       'ServiceArea_APCFCH703', 'ServiceArea_DALFTW817',\n",
       "       'ServiceArea_SANSAN210', 'ServiceArea_APCSIL301',\n",
       "       'ServiceArea_SANAUS512', 'ServiceArea_SFROAK510',\n",
       "       'CreditRating__1-Highest', 'CreditRating__2-High',\n",
       "       'CreditRating__3-Good', 'CreditRating__4-Medium', 'CreditRating__5-Low',\n",
       "       'CreditRating__6-VeryLow', 'CreditRating__7-Lowest', 'PrizmCode__Other',\n",
       "       'PrizmCode__Rural', 'PrizmCode__Suburban', 'PrizmCode__Town',\n",
       "       'Occupation__Clerical', 'Occupation__Crafts', 'Occupation__Homemaker',\n",
       "       'Occupation__Other', 'Occupation__Professional', 'Occupation__Retired',\n",
       "       'Occupation__Self', 'Occupation__Student'],\n",
       "      dtype='object')"
      ]
     },
     "execution_count": 16,
     "metadata": {},
     "output_type": "execute_result"
    }
   ],
   "source": [
    "df.columns"
   ]
  },
  {
   "cell_type": "markdown",
   "metadata": {},
   "source": [
    "Check that the data does not contain any missing values. The absense of missing values is necessary for training a Decision Tree model."
   ]
  },
  {
   "cell_type": "code",
   "execution_count": 17,
   "metadata": {},
   "outputs": [
    {
     "data": {
      "text/plain": [
       "False"
      ]
     },
     "execution_count": 17,
     "metadata": {},
     "output_type": "execute_result"
    }
   ],
   "source": [
    "# YOUR CODE HERE\n",
    "df.isnull().values.any()"
   ]
  },
  {
   "cell_type": "markdown",
   "metadata": {},
   "source": [
    "## Part 3: Create Labeled Examples from the Data Set "
   ]
  },
  {
   "cell_type": "markdown",
   "metadata": {},
   "source": [
    "<b>Task</b>: Create labeled examples from DataFrame `df`. \n",
    "In the code cell below carry out the following steps:\n",
    "\n",
    "* Get the `Churn` column from DataFrame `df` and assign it to the variable `y`. This will be our label.\n",
    "* Get all other columns from DataFrame `df` and assign them to the variable `X`. These will be our features. "
   ]
  },
  {
   "cell_type": "code",
   "execution_count": 18,
   "metadata": {},
   "outputs": [],
   "source": [
    "# YOUR CODE HERE\n",
    "y = df['Churn']\n",
    "X = df.loc[:, df.columns != 'Churn']"
   ]
  },
  {
   "cell_type": "markdown",
   "metadata": {},
   "source": [
    "## Part 4:  Create Training and Test Data Sets"
   ]
  },
  {
   "cell_type": "markdown",
   "metadata": {},
   "source": [
    "<b>Task</b>: In the code cell below create training and test sets out of the labeled examples. \n",
    "\n",
    "1. Use Scikit-learn's `train_test_split()` function to create the data sets.\n",
    "\n",
    "2. Specify:\n",
    "    * A test set that is 30 percent (.30) of the size of the data set.\n",
    "    * A seed value of '123'. \n",
    "    \n"
   ]
  },
  {
   "cell_type": "code",
   "execution_count": 19,
   "metadata": {},
   "outputs": [],
   "source": [
    "# YOUR CODE HERE\n",
    "X_train, X_test, y_train, y_test = train_test_split(X, y, test_size=0.30, random_state=123)"
   ]
  },
  {
   "cell_type": "markdown",
   "metadata": {},
   "source": [
    "Check that the dimensions of the training and test datasets are what you expected:"
   ]
  },
  {
   "cell_type": "code",
   "execution_count": 20,
   "metadata": {},
   "outputs": [
    {
     "name": "stdout",
     "output_type": "stream",
     "text": [
      "(35732, 81)\n",
      "(15315, 81)\n"
     ]
    }
   ],
   "source": [
    "print(X_train.shape)\n",
    "print(X_test.shape)"
   ]
  },
  {
   "cell_type": "markdown",
   "metadata": {},
   "source": [
    "## Part 5. Fit a Decision Tree Classifer and Evaluate the Model"
   ]
  },
  {
   "cell_type": "markdown",
   "metadata": {},
   "source": [
    "The code cell below contains a shell of a function named `train_test_DT()`. This function should train a Decision Tree classifier on the training data, test the resulting model on the test data, and compute and return the accuracy score of the resulting predicted class labels on the test data.\n",
    "\n",
    "<b>Task:</b> Complete the function to make it work."
   ]
  },
  {
   "cell_type": "code",
   "execution_count": 21,
   "metadata": {},
   "outputs": [],
   "source": [
    "def train_test_DT(X_train, X_test, y_train, y_test, leaf, depth, crit='entropy'):\n",
    "    '''\n",
    "    Fit a Decision Tree classifier to the training data X_train, y_train.\n",
    "    Return the accuracy of resulting predictions on the test set.\n",
    "    Parameters:\n",
    "        leaf := The minimum number of samples required to be at a leaf node \n",
    "        depth := The maximum depth of the tree\n",
    "        crit := The function to be used to measure the quality of a split. Default: gini.\n",
    "    '''\n",
    "    \n",
    "     # 1. Create the  DecisionTreeClassifier model object below and assign to variable 'model'\n",
    "    # YOUR CODE HERE\n",
    "    model = DecisionTreeClassifier(criterion=crit, max_depth = depth, min_samples_leaf = leaf)\n",
    "\n",
    "    # 2. Fit the model to the training data below\n",
    "    # YOUR CODE HERE\n",
    "    model.fit(X_train, y_train)\n",
    "    \n",
    "    # 3. Make predictions on the test data below and assign the result to the variable 'class_label_predictions'\n",
    "    # YOUR CODE HERE\n",
    "    class_label_predictions = model.predict(X_test)\n",
    "\n",
    "    # 4. Compute the accuracy here and save the result to the variable 'acc_score'\n",
    "    # YOUR CODE HERE\n",
    "    acc_score = accuracy_score(y_test, class_label_predictions)\n",
    "    \n",
    "    \n",
    "    return acc_score"
   ]
  },
  {
   "cell_type": "markdown",
   "metadata": {},
   "source": [
    "### Train on Different Hyperparameter Values"
   ]
  },
  {
   "cell_type": "markdown",
   "metadata": {},
   "source": [
    "<b>Task:</b> Train two Decision Tree classifiers using your function. \n",
    "\n",
    "- one with a low value of depth\n",
    "- one high value of depth\n",
    "\n",
    "Specify the minimum number of samples at the leaf node to be equal to $1$ for both trees.\n",
    "\n",
    "Save the resulting accuracy scores to list `acc`. Print the list."
   ]
  },
  {
   "cell_type": "code",
   "execution_count": 22,
   "metadata": {},
   "outputs": [
    {
     "name": "stdout",
     "output_type": "stream",
     "text": [
      "Max Depth=8, accuracy score: 0.7110022853411688\n",
      "Max Depth=32, accuracy score: 0.6190662748938949\n"
     ]
    }
   ],
   "source": [
    "depth1= 8\n",
    "depth2 = 32\n",
    "leaf = 1\n",
    "\n",
    "max_depth_range = [depth1, depth2]\n",
    "acc = []\n",
    "\n",
    "# YOUR CODE HERE\n",
    "\n",
    "for md in max_depth_range:\n",
    "    score = train_test_DT(X_train, X_test, y_train, y_test, 1, md)\n",
    "    print('Max Depth=' + str(md) + ', accuracy score: ' + str(score))\n",
    "    acc.append(float(score))\n",
    "\n",
    "    \n"
   ]
  },
  {
   "cell_type": "markdown",
   "metadata": {},
   "source": [
    "<b>Task</b>: Visualize the results (Hint: use a `seaborn` lineplot)."
   ]
  },
  {
   "cell_type": "code",
   "execution_count": 23,
   "metadata": {},
   "outputs": [
    {
     "data": {
      "image/png": "[encoded data removed]",
      "text/plain": [
       "<Figure size 432x288 with 1 Axes>"
      ]
     },
     "metadata": {
      "needs_background": "light"
     },
     "output_type": "display_data"
    }
   ],
   "source": [
    "fig = plt.figure()\n",
    "ax = fig.add_subplot(111)\n",
    "p = sns.lineplot(x=max_depth_range, y=acc, marker='o', label = 'Full training set')\n",
    "\n",
    "\n",
    "plt.title('Test set accuracy of the DT predictions, for $max\\_depth\\in\\{8, 32\\}$')\n",
    "ax.set_xlabel('max_depth')\n",
    "ax.set_ylabel('Accuracy')\n",
    "plt.show()\n",
    "\n",
    "\n",
    "\n"
   ]
  },
  {
   "cell_type": "markdown",
   "metadata": {},
   "source": [
    "<b>Analysis</b>: Experiment with different values for `max_depth`. Add these values to the list `max_depth_range` (i.e. change the values, create a list containing more values), retrain your model and rerun with the visualization cell above. Compare the different accuracy scores.\n",
    "\n",
    "Once you find the best value for `max_depth`, experiment with different values for `leaf` and compare the different accuracy scores.\n",
    "\n",
    "Is there one model configuration that yields the best score? Record your findings in the cell below."
   ]
  },
  {
   "cell_type": "code",
   "execution_count": 24,
   "metadata": {},
   "outputs": [
    {
     "name": "stdout",
     "output_type": "stream",
     "text": [
      "Accuracy scores:\n",
      "Max Depth=1, accuracy score: 0.7107411034933072\n",
      "Max Depth=2, accuracy score: 0.7107411034933072\n",
      "Max Depth=4, accuracy score: 0.7143323539014038\n",
      "Max Depth=8, accuracy score: 0.7107411034933072\n",
      "Max Depth=16, accuracy score: 0.6658178256611166\n",
      "Max Depth=32, accuracy score: 0.6212210251387529\n"
     ]
    }
   ],
   "source": [
    "#code done below is for analysis purposes\n",
    "\n",
    "#experimenting with different values for max_depth\n",
    "max_depth_range = [2**i for i in range(6)] \n",
    "acc = []\n",
    "\n",
    "print(\"Accuracy scores:\")\n",
    "for md in max_depth_range:\n",
    "    score = train_test_DT(X_train, X_test, y_train, y_test, 1, md)\n",
    "    print('Max Depth=' + str(md) + ', accuracy score: ' + str(score))\n",
    "    acc.append(float(score))\n",
    "    \n",
    "      "
   ]
  },
  {
   "cell_type": "code",
   "execution_count": 26,
   "metadata": {},
   "outputs": [
    {
     "data": {
      "image/png": "[encoded data removed]",
      "text/plain": [
       "<Figure size 432x288 with 1 Axes>"
      ]
     },
     "metadata": {
      "needs_background": "light"
     },
     "output_type": "display_data"
    }
   ],
   "source": [
    "x = max_depth_range\n",
    "    \n",
    "fig = plt.figure()\n",
    "p_grid = sns.lineplot(x=x, y=acc, marker='o', label = 'Full training set')\n",
    "\n",
    "plt.title('Test set accuracy of the DT predictions, for $max\\_depth\\in(2^0, 2^{5})$')\n",
    "ax.set_xlabel('max_depth')\n",
    "ax.set_ylabel('Accuracy')\n",
    "plt.show()"
   ]
  },
  {
   "cell_type": "markdown",
   "metadata": {},
   "source": [
    "It appears that the best max depth value was when md = 4, so I'll use that \n",
    "to find the ideal leaf value next"
   ]
  },
  {
   "cell_type": "code",
   "execution_count": 25,
   "metadata": {
    "scrolled": true
   },
   "outputs": [
    {
     "name": "stdout",
     "output_type": "stream",
     "text": [
      "leaf=1, accuracy score: 0.7143323539014038\n",
      "leaf=2, accuracy score: 0.7143323539014038\n",
      "leaf=4, accuracy score: 0.7143323539014038\n",
      "leaf=8, accuracy score: 0.7143323539014038\n",
      "leaf=16, accuracy score: 0.7144629448253347\n",
      "leaf=32, accuracy score: 0.7140058765915769\n"
     ]
    }
   ],
   "source": [
    "#different values for leaf\n",
    "\n",
    "leaf_range = [2**i for i in range(6)]\n",
    "acc = []\n",
    "for lf in leaf_range:\n",
    "    score = train_test_DT(X_train, X_test, y_train, y_test, lf, 4)\n",
    "    print('leaf=' + str(lf) + ', accuracy score: ' + str(score))\n",
    "    acc.append(float(score))"
   ]
  },
  {
   "cell_type": "markdown",
   "metadata": {},
   "source": [
    "<Double click this Markdown cell to make it editable, and record your findings here.>\n",
    "\n",
    "After running more tests, the best leaf value was at lf = 16, when md = 4. The highest accuracy score for a model so far has been 0.7144629, which was found after lowering the values for mx_depth and steadily changing it. It's been interesting watching the ways the model changes with these adjustments, both with the numerical values, then using a visual aid. At some point, increasing the values for max depth or leaf stops improving the accuracy of the model and the results start to worsen. "
   ]
  }
 ],
 "metadata": {
  "kernelspec": {
   "display_name": "Python 3",
   "language": "python",
   "name": "python3"
  },
  "language_info": {
   "codemirror_mode": {
    "name": "ipython",
    "version": 3
   },
   "file_extension": ".py",
   "mimetype": "text/x-python",
   "name": "python",
   "nbconvert_exporter": "python",
   "pygments_lexer": "ipython3",
   "version": "3.6.9"
  },
  "toc": {
   "base_numbering": 1,
   "nav_menu": {},
   "number_sections": false,
   "sideBar": true,
   "skip_h1_title": false,
   "title_cell": "Table of Contents",
   "title_sidebar": "Contents",
   "toc_cell": false,
   "toc_position": {},
   "toc_section_display": true,
   "toc_window_display": false
  },
  "varInspector": {
   "cols": {
    "lenName": 16,
    "lenType": 16,
    "lenVar": 40
   },
   "kernels_config": {
    "python": {
     "delete_cmd_postfix": "",
     "delete_cmd_prefix": "del ",
     "library": "var_list.py",
     "varRefreshCmd": "print(var_dic_list())"
    },
    "r": {
     "delete_cmd_postfix": ") ",
     "delete_cmd_prefix": "rm(",
     "library": "var_list.r",
     "varRefreshCmd": "cat(var_dic_list()) "
    }
   },
   "types_to_exclude": [
    "module",
    "function",
    "builtin_function_or_method",
    "instance",
    "_Feature"
   ],
   "window_display": false
  }
 },
 "nbformat": 4,
 "nbformat_minor": 2
}
