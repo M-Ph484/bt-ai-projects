{
 "cells": [
  {
   "cell_type": "markdown",
   "metadata": {},
   "source": [
    "# Lab 8: Implement Your Machine Learning Project Plan"
   ]
  },
  {
   "cell_type": "markdown",
   "metadata": {},
   "source": [
    "In this lab assignment, you will implement the machine learning project plan you created in the written assignment. You will:\n",
    "\n",
    "1. Load your data set and save it to a Pandas DataFrame.\n",
    "2. Perform exploratory data analysis on your data to determine which feature engineering and data preparation techniques you will use.\n",
    "3. Prepare your data for your model and create features and a label.\n",
    "4. Fit your model to the training data and evaluate your model.\n",
    "5. Improve your model by performing model selection and/or feature selection techniques to find best model for your problem."
   ]
  },
  {
   "cell_type": "markdown",
   "metadata": {},
   "source": [
    "### Import Packages\n",
    "\n",
    "Before you get started, import a few packages."
   ]
  },
  {
   "cell_type": "code",
   "execution_count": 1,
   "metadata": {},
   "outputs": [],
   "source": [
    "import pandas as pd\n",
    "import numpy as np\n",
    "import os \n",
    "import matplotlib.pyplot as plt\n",
    "import seaborn as sns"
   ]
  },
  {
   "cell_type": "markdown",
   "metadata": {},
   "source": [
    "<b>Task:</b> In the code cell below, import additional packages that you have used in this course that you will need for this task."
   ]
  },
  {
   "cell_type": "code",
   "execution_count": 2,
   "metadata": {},
   "outputs": [],
   "source": [
    "import scipy.stats as stats\n",
    "from sklearn.model_selection import train_test_split, cross_val_score\n",
    "from sklearn.ensemble import StackingRegressor\n",
    "from sklearn.ensemble import RandomForestRegressor, GradientBoostingRegressor\n",
    "from sklearn.tree import DecisionTreeRegressor\n",
    "from sklearn.linear_model import LinearRegression\n",
    "from sklearn.metrics import mean_squared_error, r2_score\n",
    "from sklearn.model_selection import GridSearchCV"
   ]
  },
  {
   "cell_type": "markdown",
   "metadata": {},
   "source": [
    "## Part 1: Load the Data Set\n",
    "\n",
    "\n",
    "You have chosen to work with one of four data sets. The data sets are located in a folder named \"data.\" The file names of the three data sets are as follows:\n",
    "\n",
    "* The \"adult\" data set that contains Census information from 1994 is located in file `adultData.csv`\n",
    "* The airbnb NYC \"listings\" data set is located in file  `airbnbListingsData.csv`\n",
    "* The World Happiness Report (WHR) data set is located in file `WHR2018Chapter2OnlineData.csv`\n",
    "* The book review data set is located in file `bookReviewsData.csv`\n",
    "\n",
    "\n",
    "\n",
    "<b>Task:</b> In the code cell below, use the same method you have been using to load your data using `pd.read_csv()` and save it to DataFrame `df`."
   ]
  },
  {
   "cell_type": "code",
   "execution_count": 3,
   "metadata": {},
   "outputs": [
    {
     "data": {
      "text/html": [
       "<div>\n",
       "<style scoped>\n",
       "    .dataframe tbody tr th:only-of-type {\n",
       "        vertical-align: middle;\n",
       "    }\n",
       "\n",
       "    .dataframe tbody tr th {\n",
       "        vertical-align: top;\n",
       "    }\n",
       "\n",
       "    .dataframe thead th {\n",
       "        text-align: right;\n",
       "    }\n",
       "</style>\n",
       "<table border=\"1\" class=\"dataframe\">\n",
       "  <thead>\n",
       "    <tr style=\"text-align: right;\">\n",
       "      <th></th>\n",
       "      <th>country</th>\n",
       "      <th>year</th>\n",
       "      <th>Life Ladder</th>\n",
       "      <th>Log GDP per capita</th>\n",
       "      <th>Social support</th>\n",
       "      <th>Healthy life expectancy at birth</th>\n",
       "      <th>Freedom to make life choices</th>\n",
       "      <th>Generosity</th>\n",
       "      <th>Perceptions of corruption</th>\n",
       "      <th>Positive affect</th>\n",
       "      <th>Negative affect</th>\n",
       "      <th>Confidence in national government</th>\n",
       "      <th>Democratic Quality</th>\n",
       "      <th>Delivery Quality</th>\n",
       "      <th>Standard deviation of ladder by country-year</th>\n",
       "      <th>Standard deviation/Mean of ladder by country-year</th>\n",
       "      <th>GINI index (World Bank estimate)</th>\n",
       "      <th>GINI index (World Bank estimate), average 2000-15</th>\n",
       "      <th>gini of household income reported in Gallup, by wp5-year</th>\n",
       "    </tr>\n",
       "  </thead>\n",
       "  <tbody>\n",
       "    <tr>\n",
       "      <th>0</th>\n",
       "      <td>Afghanistan</td>\n",
       "      <td>2008</td>\n",
       "      <td>3.723590</td>\n",
       "      <td>7.168690</td>\n",
       "      <td>0.450662</td>\n",
       "      <td>49.209663</td>\n",
       "      <td>0.718114</td>\n",
       "      <td>0.181819</td>\n",
       "      <td>0.881686</td>\n",
       "      <td>0.517637</td>\n",
       "      <td>0.258195</td>\n",
       "      <td>0.612072</td>\n",
       "      <td>-1.929690</td>\n",
       "      <td>-1.655084</td>\n",
       "      <td>1.774662</td>\n",
       "      <td>0.476600</td>\n",
       "      <td>NaN</td>\n",
       "      <td>NaN</td>\n",
       "      <td>NaN</td>\n",
       "    </tr>\n",
       "    <tr>\n",
       "      <th>1</th>\n",
       "      <td>Afghanistan</td>\n",
       "      <td>2009</td>\n",
       "      <td>4.401778</td>\n",
       "      <td>7.333790</td>\n",
       "      <td>0.552308</td>\n",
       "      <td>49.624432</td>\n",
       "      <td>0.678896</td>\n",
       "      <td>0.203614</td>\n",
       "      <td>0.850035</td>\n",
       "      <td>0.583926</td>\n",
       "      <td>0.237092</td>\n",
       "      <td>0.611545</td>\n",
       "      <td>-2.044093</td>\n",
       "      <td>-1.635025</td>\n",
       "      <td>1.722688</td>\n",
       "      <td>0.391362</td>\n",
       "      <td>NaN</td>\n",
       "      <td>NaN</td>\n",
       "      <td>0.441906</td>\n",
       "    </tr>\n",
       "    <tr>\n",
       "      <th>2</th>\n",
       "      <td>Afghanistan</td>\n",
       "      <td>2010</td>\n",
       "      <td>4.758381</td>\n",
       "      <td>7.386629</td>\n",
       "      <td>0.539075</td>\n",
       "      <td>50.008961</td>\n",
       "      <td>0.600127</td>\n",
       "      <td>0.137630</td>\n",
       "      <td>0.706766</td>\n",
       "      <td>0.618265</td>\n",
       "      <td>0.275324</td>\n",
       "      <td>0.299357</td>\n",
       "      <td>-1.991810</td>\n",
       "      <td>-1.617176</td>\n",
       "      <td>1.878622</td>\n",
       "      <td>0.394803</td>\n",
       "      <td>NaN</td>\n",
       "      <td>NaN</td>\n",
       "      <td>0.327318</td>\n",
       "    </tr>\n",
       "    <tr>\n",
       "      <th>3</th>\n",
       "      <td>Afghanistan</td>\n",
       "      <td>2011</td>\n",
       "      <td>3.831719</td>\n",
       "      <td>7.415019</td>\n",
       "      <td>0.521104</td>\n",
       "      <td>50.367298</td>\n",
       "      <td>0.495901</td>\n",
       "      <td>0.175329</td>\n",
       "      <td>0.731109</td>\n",
       "      <td>0.611387</td>\n",
       "      <td>0.267175</td>\n",
       "      <td>0.307386</td>\n",
       "      <td>-1.919018</td>\n",
       "      <td>-1.616221</td>\n",
       "      <td>1.785360</td>\n",
       "      <td>0.465942</td>\n",
       "      <td>NaN</td>\n",
       "      <td>NaN</td>\n",
       "      <td>0.336764</td>\n",
       "    </tr>\n",
       "    <tr>\n",
       "      <th>4</th>\n",
       "      <td>Afghanistan</td>\n",
       "      <td>2012</td>\n",
       "      <td>3.782938</td>\n",
       "      <td>7.517126</td>\n",
       "      <td>0.520637</td>\n",
       "      <td>50.709263</td>\n",
       "      <td>0.530935</td>\n",
       "      <td>0.247159</td>\n",
       "      <td>0.775620</td>\n",
       "      <td>0.710385</td>\n",
       "      <td>0.267919</td>\n",
       "      <td>0.435440</td>\n",
       "      <td>-1.842996</td>\n",
       "      <td>-1.404078</td>\n",
       "      <td>1.798283</td>\n",
       "      <td>0.475367</td>\n",
       "      <td>NaN</td>\n",
       "      <td>NaN</td>\n",
       "      <td>0.344540</td>\n",
       "    </tr>\n",
       "  </tbody>\n",
       "</table>\n",
       "</div>"
      ],
      "text/plain": [
       "       country  year  Life Ladder  Log GDP per capita  Social support  \\\n",
       "0  Afghanistan  2008     3.723590            7.168690        0.450662   \n",
       "1  Afghanistan  2009     4.401778            7.333790        0.552308   \n",
       "2  Afghanistan  2010     4.758381            7.386629        0.539075   \n",
       "3  Afghanistan  2011     3.831719            7.415019        0.521104   \n",
       "4  Afghanistan  2012     3.782938            7.517126        0.520637   \n",
       "\n",
       "   Healthy life expectancy at birth  Freedom to make life choices  Generosity  \\\n",
       "0                         49.209663                      0.718114    0.181819   \n",
       "1                         49.624432                      0.678896    0.203614   \n",
       "2                         50.008961                      0.600127    0.137630   \n",
       "3                         50.367298                      0.495901    0.175329   \n",
       "4                         50.709263                      0.530935    0.247159   \n",
       "\n",
       "   Perceptions of corruption  Positive affect  Negative affect  \\\n",
       "0                   0.881686         0.517637         0.258195   \n",
       "1                   0.850035         0.583926         0.237092   \n",
       "2                   0.706766         0.618265         0.275324   \n",
       "3                   0.731109         0.611387         0.267175   \n",
       "4                   0.775620         0.710385         0.267919   \n",
       "\n",
       "   Confidence in national government  Democratic Quality  Delivery Quality  \\\n",
       "0                           0.612072           -1.929690         -1.655084   \n",
       "1                           0.611545           -2.044093         -1.635025   \n",
       "2                           0.299357           -1.991810         -1.617176   \n",
       "3                           0.307386           -1.919018         -1.616221   \n",
       "4                           0.435440           -1.842996         -1.404078   \n",
       "\n",
       "   Standard deviation of ladder by country-year  \\\n",
       "0                                      1.774662   \n",
       "1                                      1.722688   \n",
       "2                                      1.878622   \n",
       "3                                      1.785360   \n",
       "4                                      1.798283   \n",
       "\n",
       "   Standard deviation/Mean of ladder by country-year  \\\n",
       "0                                           0.476600   \n",
       "1                                           0.391362   \n",
       "2                                           0.394803   \n",
       "3                                           0.465942   \n",
       "4                                           0.475367   \n",
       "\n",
       "   GINI index (World Bank estimate)  \\\n",
       "0                               NaN   \n",
       "1                               NaN   \n",
       "2                               NaN   \n",
       "3                               NaN   \n",
       "4                               NaN   \n",
       "\n",
       "   GINI index (World Bank estimate), average 2000-15  \\\n",
       "0                                                NaN   \n",
       "1                                                NaN   \n",
       "2                                                NaN   \n",
       "3                                                NaN   \n",
       "4                                                NaN   \n",
       "\n",
       "   gini of household income reported in Gallup, by wp5-year  \n",
       "0                                                NaN         \n",
       "1                                           0.441906         \n",
       "2                                           0.327318         \n",
       "3                                           0.336764         \n",
       "4                                           0.344540         "
      ]
     },
     "execution_count": 3,
     "metadata": {},
     "output_type": "execute_result"
    }
   ],
   "source": [
    "WHRDataSet_filename = os.path.join(os.getcwd(), \"data\", \"WHR2018Chapter2OnlineData.csv\")\n",
    "df = pd.read_csv(WHRDataSet_filename, header=0)\n",
    "df.head()"
   ]
  },
  {
   "cell_type": "markdown",
   "metadata": {},
   "source": [
    "## Part 2: Exploratory Data Analysis\n",
    "\n",
    "The next step is to inspect and analyze your data set with your machine learning problem and project plan in mind. \n",
    "\n",
    "This step will help you determine data preparation and feature engineering techniques you will need to apply to your data to build a balanced modeling data set for your problem and model. These data preparation techniques may include:\n",
    "* addressing missingness, such as replacing missing values with means\n",
    "* renaming features and labels\n",
    "* finding and replacing outliers\n",
    "* performing winsorization if needed\n",
    "* performing one-hot encoding on categorical features\n",
    "* performing vectorization for an NLP problem\n",
    "* addressing class imbalance in your data sample to promote fair AI\n",
    "\n",
    "\n",
    "Think of the different techniques you have used to inspect and analyze your data in this course. These include using Pandas to apply data filters, using the Pandas `describe()` method to get insight into key statistics for each column, using the Pandas `dtypes` property to inspect the data type of each column, and using Matplotlib and Seaborn to detect outliers and visualize relationships between features and labels. If you are working on a classification problem, use techniques you have learned to determine if there is class imbalance.\n",
    "\n",
    "\n",
    "<b>Task</b>: Use the techniques you have learned in this course to inspect and analyze your data. \n",
    "\n",
    "<b>Note</b>: You can add code cells if needed by going to the <b>Insert</b> menu and clicking on <b>Insert Cell Below</b> in the drop-drown menu."
   ]
  },
  {
   "cell_type": "code",
   "execution_count": 4,
   "metadata": {},
   "outputs": [
    {
     "data": {
      "text/html": [
       "<div>\n",
       "<style scoped>\n",
       "    .dataframe tbody tr th:only-of-type {\n",
       "        vertical-align: middle;\n",
       "    }\n",
       "\n",
       "    .dataframe tbody tr th {\n",
       "        vertical-align: top;\n",
       "    }\n",
       "\n",
       "    .dataframe thead th {\n",
       "        text-align: right;\n",
       "    }\n",
       "</style>\n",
       "<table border=\"1\" class=\"dataframe\">\n",
       "  <thead>\n",
       "    <tr style=\"text-align: right;\">\n",
       "      <th></th>\n",
       "      <th>country</th>\n",
       "      <th>year</th>\n",
       "      <th>Life Ladder</th>\n",
       "      <th>Log GDP per capita</th>\n",
       "      <th>Social support</th>\n",
       "      <th>Healthy life expectancy at birth</th>\n",
       "      <th>Freedom to make life choices</th>\n",
       "      <th>Generosity</th>\n",
       "      <th>Perceptions of corruption</th>\n",
       "      <th>Positive affect</th>\n",
       "      <th>Negative affect</th>\n",
       "      <th>Confidence in national government</th>\n",
       "      <th>Democratic Quality</th>\n",
       "      <th>Delivery Quality</th>\n",
       "      <th>Standard deviation of ladder by country-year</th>\n",
       "      <th>Standard deviation/Mean of ladder by country-year</th>\n",
       "      <th>GINI index (World Bank estimate)</th>\n",
       "      <th>GINI index (World Bank estimate), average 2000-15</th>\n",
       "      <th>gini of household income reported in Gallup, by wp5-year</th>\n",
       "    </tr>\n",
       "  </thead>\n",
       "  <tbody>\n",
       "    <tr>\n",
       "      <th>0</th>\n",
       "      <td>Afghanistan</td>\n",
       "      <td>2008</td>\n",
       "      <td>3.723590</td>\n",
       "      <td>7.168690</td>\n",
       "      <td>0.450662</td>\n",
       "      <td>49.209663</td>\n",
       "      <td>0.718114</td>\n",
       "      <td>0.181819</td>\n",
       "      <td>0.881686</td>\n",
       "      <td>0.517637</td>\n",
       "      <td>0.258195</td>\n",
       "      <td>0.612072</td>\n",
       "      <td>-1.929690</td>\n",
       "      <td>-1.655084</td>\n",
       "      <td>1.774662</td>\n",
       "      <td>0.476600</td>\n",
       "      <td>NaN</td>\n",
       "      <td>NaN</td>\n",
       "      <td>NaN</td>\n",
       "    </tr>\n",
       "    <tr>\n",
       "      <th>1</th>\n",
       "      <td>Afghanistan</td>\n",
       "      <td>2009</td>\n",
       "      <td>4.401778</td>\n",
       "      <td>7.333790</td>\n",
       "      <td>0.552308</td>\n",
       "      <td>49.624432</td>\n",
       "      <td>0.678896</td>\n",
       "      <td>0.203614</td>\n",
       "      <td>0.850035</td>\n",
       "      <td>0.583926</td>\n",
       "      <td>0.237092</td>\n",
       "      <td>0.611545</td>\n",
       "      <td>-2.044093</td>\n",
       "      <td>-1.635025</td>\n",
       "      <td>1.722688</td>\n",
       "      <td>0.391362</td>\n",
       "      <td>NaN</td>\n",
       "      <td>NaN</td>\n",
       "      <td>0.441906</td>\n",
       "    </tr>\n",
       "    <tr>\n",
       "      <th>2</th>\n",
       "      <td>Afghanistan</td>\n",
       "      <td>2010</td>\n",
       "      <td>4.758381</td>\n",
       "      <td>7.386629</td>\n",
       "      <td>0.539075</td>\n",
       "      <td>50.008961</td>\n",
       "      <td>0.600127</td>\n",
       "      <td>0.137630</td>\n",
       "      <td>0.706766</td>\n",
       "      <td>0.618265</td>\n",
       "      <td>0.275324</td>\n",
       "      <td>0.299357</td>\n",
       "      <td>-1.991810</td>\n",
       "      <td>-1.617176</td>\n",
       "      <td>1.878622</td>\n",
       "      <td>0.394803</td>\n",
       "      <td>NaN</td>\n",
       "      <td>NaN</td>\n",
       "      <td>0.327318</td>\n",
       "    </tr>\n",
       "    <tr>\n",
       "      <th>3</th>\n",
       "      <td>Afghanistan</td>\n",
       "      <td>2011</td>\n",
       "      <td>3.831719</td>\n",
       "      <td>7.415019</td>\n",
       "      <td>0.521104</td>\n",
       "      <td>50.367298</td>\n",
       "      <td>0.495901</td>\n",
       "      <td>0.175329</td>\n",
       "      <td>0.731109</td>\n",
       "      <td>0.611387</td>\n",
       "      <td>0.267175</td>\n",
       "      <td>0.307386</td>\n",
       "      <td>-1.919018</td>\n",
       "      <td>-1.616221</td>\n",
       "      <td>1.785360</td>\n",
       "      <td>0.465942</td>\n",
       "      <td>NaN</td>\n",
       "      <td>NaN</td>\n",
       "      <td>0.336764</td>\n",
       "    </tr>\n",
       "    <tr>\n",
       "      <th>4</th>\n",
       "      <td>Afghanistan</td>\n",
       "      <td>2012</td>\n",
       "      <td>3.782938</td>\n",
       "      <td>7.517126</td>\n",
       "      <td>0.520637</td>\n",
       "      <td>50.709263</td>\n",
       "      <td>0.530935</td>\n",
       "      <td>0.247159</td>\n",
       "      <td>0.775620</td>\n",
       "      <td>0.710385</td>\n",
       "      <td>0.267919</td>\n",
       "      <td>0.435440</td>\n",
       "      <td>-1.842996</td>\n",
       "      <td>-1.404078</td>\n",
       "      <td>1.798283</td>\n",
       "      <td>0.475367</td>\n",
       "      <td>NaN</td>\n",
       "      <td>NaN</td>\n",
       "      <td>0.344540</td>\n",
       "    </tr>\n",
       "  </tbody>\n",
       "</table>\n",
       "</div>"
      ],
      "text/plain": [
       "       country  year  Life Ladder  Log GDP per capita  Social support  \\\n",
       "0  Afghanistan  2008     3.723590            7.168690        0.450662   \n",
       "1  Afghanistan  2009     4.401778            7.333790        0.552308   \n",
       "2  Afghanistan  2010     4.758381            7.386629        0.539075   \n",
       "3  Afghanistan  2011     3.831719            7.415019        0.521104   \n",
       "4  Afghanistan  2012     3.782938            7.517126        0.520637   \n",
       "\n",
       "   Healthy life expectancy at birth  Freedom to make life choices  Generosity  \\\n",
       "0                         49.209663                      0.718114    0.181819   \n",
       "1                         49.624432                      0.678896    0.203614   \n",
       "2                         50.008961                      0.600127    0.137630   \n",
       "3                         50.367298                      0.495901    0.175329   \n",
       "4                         50.709263                      0.530935    0.247159   \n",
       "\n",
       "   Perceptions of corruption  Positive affect  Negative affect  \\\n",
       "0                   0.881686         0.517637         0.258195   \n",
       "1                   0.850035         0.583926         0.237092   \n",
       "2                   0.706766         0.618265         0.275324   \n",
       "3                   0.731109         0.611387         0.267175   \n",
       "4                   0.775620         0.710385         0.267919   \n",
       "\n",
       "   Confidence in national government  Democratic Quality  Delivery Quality  \\\n",
       "0                           0.612072           -1.929690         -1.655084   \n",
       "1                           0.611545           -2.044093         -1.635025   \n",
       "2                           0.299357           -1.991810         -1.617176   \n",
       "3                           0.307386           -1.919018         -1.616221   \n",
       "4                           0.435440           -1.842996         -1.404078   \n",
       "\n",
       "   Standard deviation of ladder by country-year  \\\n",
       "0                                      1.774662   \n",
       "1                                      1.722688   \n",
       "2                                      1.878622   \n",
       "3                                      1.785360   \n",
       "4                                      1.798283   \n",
       "\n",
       "   Standard deviation/Mean of ladder by country-year  \\\n",
       "0                                           0.476600   \n",
       "1                                           0.391362   \n",
       "2                                           0.394803   \n",
       "3                                           0.465942   \n",
       "4                                           0.475367   \n",
       "\n",
       "   GINI index (World Bank estimate)  \\\n",
       "0                               NaN   \n",
       "1                               NaN   \n",
       "2                               NaN   \n",
       "3                               NaN   \n",
       "4                               NaN   \n",
       "\n",
       "   GINI index (World Bank estimate), average 2000-15  \\\n",
       "0                                                NaN   \n",
       "1                                                NaN   \n",
       "2                                                NaN   \n",
       "3                                                NaN   \n",
       "4                                                NaN   \n",
       "\n",
       "   gini of household income reported in Gallup, by wp5-year  \n",
       "0                                                NaN         \n",
       "1                                           0.441906         \n",
       "2                                           0.327318         \n",
       "3                                           0.336764         \n",
       "4                                           0.344540         "
      ]
     },
     "execution_count": 4,
     "metadata": {},
     "output_type": "execute_result"
    }
   ],
   "source": [
    "df.shape\n",
    "df.head()"
   ]
  },
  {
   "cell_type": "code",
   "execution_count": 5,
   "metadata": {},
   "outputs": [
    {
     "data": {
      "text/plain": [
       "country                                                       0\n",
       "year                                                          0\n",
       "Life Ladder                                                   0\n",
       "Log GDP per capita                                           27\n",
       "Social support                                               13\n",
       "Healthy life expectancy at birth                              9\n",
       "Freedom to make life choices                                 29\n",
       "Generosity                                                   80\n",
       "Perceptions of corruption                                    90\n",
       "Positive affect                                              18\n",
       "Negative affect                                              12\n",
       "Confidence in national government                           161\n",
       "Democratic Quality                                          171\n",
       "Delivery Quality                                            171\n",
       "Standard deviation of ladder by country-year                  0\n",
       "Standard deviation/Mean of ladder by country-year             0\n",
       "GINI index (World Bank estimate)                            979\n",
       "GINI index (World Bank estimate), average 2000-15           176\n",
       "gini of household income reported in Gallup, by wp5-year    357\n",
       "dtype: int64"
      ]
     },
     "execution_count": 5,
     "metadata": {},
     "output_type": "execute_result"
    }
   ],
   "source": [
    "#this cell and the one below it are for checking missing values in columns \n",
    "nan_count = np.sum(df.isnull(), axis = 0)\n",
    "nan_count"
   ]
  },
  {
   "cell_type": "code",
   "execution_count": 6,
   "metadata": {},
   "outputs": [
    {
     "name": "stdout",
     "output_type": "stream",
     "text": [
      "Index(['Log GDP per capita', 'Social support',\n",
      "       'Healthy life expectancy at birth', 'Freedom to make life choices',\n",
      "       'Generosity', 'Perceptions of corruption', 'Positive affect',\n",
      "       'Negative affect', 'Confidence in national government',\n",
      "       'Democratic Quality', 'Delivery Quality',\n",
      "       'GINI index (World Bank estimate)',\n",
      "       'GINI index (World Bank estimate), average 2000-15',\n",
      "       'gini of household income reported in Gallup, by wp5-year'],\n",
      "      dtype='object')\n",
      "['Log GDP per capita', 'Social support', 'Healthy life expectancy at birth', 'Freedom to make life choices', 'Generosity', 'Perceptions of corruption', 'Positive affect', 'Negative affect', 'Confidence in national government', 'Democratic Quality', 'Delivery Quality', 'GINI index (World Bank estimate)', 'GINI index (World Bank estimate), average 2000-15', 'gini of household income reported in Gallup, by wp5-year']\n"
     ]
    },
    {
     "data": {
      "text/plain": [
       "Log GDP per capita                                          float64\n",
       "Social support                                              float64\n",
       "Healthy life expectancy at birth                            float64\n",
       "Freedom to make life choices                                float64\n",
       "Generosity                                                  float64\n",
       "Perceptions of corruption                                   float64\n",
       "Positive affect                                             float64\n",
       "Negative affect                                             float64\n",
       "Confidence in national government                           float64\n",
       "Democratic Quality                                          float64\n",
       "Delivery Quality                                            float64\n",
       "GINI index (World Bank estimate)                            float64\n",
       "GINI index (World Bank estimate), average 2000-15           float64\n",
       "gini of household income reported in Gallup, by wp5-year    float64\n",
       "dtype: object"
      ]
     },
     "execution_count": 6,
     "metadata": {},
     "output_type": "execute_result"
    }
   ],
   "source": [
    "condition = nan_count != 0 # look for all columns with missing values\n",
    "\n",
    "col_names = nan_count[condition].index # get the column names\n",
    "print(col_names)\n",
    "\n",
    "nan_cols = list(col_names) # convert column names to list\n",
    "print(nan_cols)\n",
    "nan_col_types = df[nan_cols].dtypes\n",
    "nan_col_types"
   ]
  },
  {
   "cell_type": "code",
   "execution_count": 7,
   "metadata": {},
   "outputs": [],
   "source": [
    "#all of the columns with missing values are float data types, meaning they're numerical values\n",
    "#this cell is where all of the empty values will be replaced with the mean for each of the columns \n",
    "#that could be used as features\n",
    "\n",
    "#first for the potential label\n",
    "\n",
    "mean_generosity = df['Generosity'].mean()\n",
    "df['Generosity'].fillna(value=mean_generosity, inplace=True)\n",
    "\n",
    "#then for the potential features\n",
    "mean_capita = df['Log GDP per capita'].mean()\n",
    "df['Log GDP per capita'].fillna(value=mean_capita, inplace=True)\n",
    "\n",
    "mean_ss = df['Social support'].mean()\n",
    "df['Social support'].fillna(value=mean_ss, inplace=True)\n",
    "\n",
    "mean_le = df['Healthy life expectancy at birth'].mean()\n",
    "df['Healthy life expectancy at birth'].fillna(value=mean_le, inplace=True)\n",
    "\n",
    "mean_freedom = df['Freedom to make life choices'].mean()\n",
    "df['Freedom to make life choices'].fillna(value=mean_freedom, inplace=True)\n",
    "\n",
    "mean_corruption = df['Perceptions of corruption'].mean()\n",
    "df['Perceptions of corruption'].fillna(value=mean_corruption, inplace=True)\n",
    "\n",
    "mean_confidence = df['Confidence in national government'].mean()\n",
    "df['Confidence in national government'].fillna(value=mean_confidence, inplace=True)\n",
    "\n",
    "mean_democrat = df['Democratic Quality'].mean()\n",
    "df['Democratic Quality'].fillna(value=mean_democrat, inplace=True)\n",
    "\n",
    "mean_delivery = df['Delivery Quality'].mean()\n",
    "df['Delivery Quality'].fillna(value=mean_delivery, inplace=True)\n",
    "\n",
    "mean_gini_average = df['GINI index (World Bank estimate), average 2000-15'].mean()\n",
    "df['GINI index (World Bank estimate), average 2000-15'].fillna(value=mean_gini_average, inplace=True)\n",
    "\n",
    "mean_gini_household = df['gini of household income reported in Gallup, by wp5-year'].mean()\n",
    "df['gini of household income reported in Gallup, by wp5-year'].fillna(value=mean_gini_household, inplace=True)\n",
    "\n"
   ]
  },
  {
   "cell_type": "code",
   "execution_count": 8,
   "metadata": {},
   "outputs": [
    {
     "data": {
      "text/plain": [
       "country                                                       0\n",
       "year                                                          0\n",
       "Life Ladder                                                   0\n",
       "Log GDP per capita                                            0\n",
       "Social support                                                0\n",
       "Healthy life expectancy at birth                              0\n",
       "Freedom to make life choices                                  0\n",
       "Generosity                                                    0\n",
       "Perceptions of corruption                                     0\n",
       "Positive affect                                              18\n",
       "Negative affect                                              12\n",
       "Confidence in national government                             0\n",
       "Democratic Quality                                            0\n",
       "Delivery Quality                                              0\n",
       "Standard deviation of ladder by country-year                  0\n",
       "Standard deviation/Mean of ladder by country-year             0\n",
       "GINI index (World Bank estimate)                            979\n",
       "GINI index (World Bank estimate), average 2000-15             0\n",
       "gini of household income reported in Gallup, by wp5-year      0\n",
       "dtype: int64"
      ]
     },
     "execution_count": 8,
     "metadata": {},
     "output_type": "execute_result"
    }
   ],
   "source": [
    "#checking for missing values within altered columns \n",
    "#the columns that were not altered will not be used as features since\n",
    "#one of them has a large number of missing values, and the other two\n",
    "#might be redundant \n",
    "nan_count = np.sum(df.isnull(), axis = 0)\n",
    "nan_count"
   ]
  },
  {
   "cell_type": "code",
   "execution_count": 9,
   "metadata": {},
   "outputs": [
    {
     "data": {
      "text/plain": [
       "True"
      ]
     },
     "execution_count": 9,
     "metadata": {},
     "output_type": "execute_result"
    }
   ],
   "source": [
    "#next to check for outliers. I'll focus on a few features that I think \n",
    "#would be the most at risk if any outliers are present\n",
    "#I'll choose 'healthy life expectancy at birth', 'perceptions of corruption'\n",
    "#'democratic quality', 'delivery quality', and 'freedom to make life choices'\n",
    "\n",
    "#the code below determines if there are outliers using upper and lower bounds\n",
    "q1_hl = np.quantile(df['Healthy life expectancy at birth'], 0.25)\n",
    "q3_hl = np.quantile(df['Healthy life expectancy at birth'], 0.75)\n",
    "med_hl = np.median(df['Healthy life expectancy at birth'])\n",
    "iqr_hl = q3_hl - q1_hl\n",
    "ub_hl = q3_hl+(1.5*iqr_hl)\n",
    "lb_hl = q1_hl - (1.5*iqr_hl)\n",
    "\n",
    "outliers_hl = [(df['Healthy life expectancy at birth']<= lb_hl) | (df['Healthy life expectancy at birth'] >= ub_hl)]\n",
    "list(outliers_hl)\n",
    "res_hl = True in (outliers_hl > 10 for outliers_hl in df['Healthy life expectancy at birth'])\n",
    "res_hl\n",
    "#outputs False if there are no outliers"
   ]
  },
  {
   "cell_type": "code",
   "execution_count": 10,
   "metadata": {},
   "outputs": [
    {
     "data": {
      "text/plain": [
       "False"
      ]
     },
     "execution_count": 10,
     "metadata": {},
     "output_type": "execute_result"
    }
   ],
   "source": [
    "q1_pc = np.quantile(df['Perceptions of corruption'], 0.25)\n",
    "q3_pc = np.quantile(df['Perceptions of corruption'], 0.75)\n",
    "med_pc = np.median(df['Perceptions of corruption'])\n",
    "iqr_pc = q3_pc - q1_pc\n",
    "ub_pc = q3_pc+(1.5*iqr_pc)\n",
    "lb_pc = q1_pc - (1.5*iqr_pc)\n",
    "\n",
    "outliers_pc = [(df['Perceptions of corruption']<= lb_pc) | (df['Perceptions of corruption'] >= ub_pc)]\n",
    "list(outliers_pc)\n",
    "res_pc = True in (outliers_pc > 10 for outliers_pc in df['Perceptions of corruption'])\n",
    "res_pc\n",
    "#outputs False if there are no outliers"
   ]
  },
  {
   "cell_type": "code",
   "execution_count": 11,
   "metadata": {},
   "outputs": [
    {
     "data": {
      "text/plain": [
       "False"
      ]
     },
     "execution_count": 11,
     "metadata": {},
     "output_type": "execute_result"
    }
   ],
   "source": [
    "q1_dmQ = np.quantile(df['Democratic Quality'], 0.25)\n",
    "q3_dmQ = np.quantile(df['Democratic Quality'], 0.75)\n",
    "med_dmQ = np.median(df['Democratic Quality'])\n",
    "iqr_dmQ = q3_dmQ - q1_dmQ\n",
    "ub_dmQ = q3_dmQ+(1.5*iqr_dmQ)\n",
    "lb_dmQ = q1_dmQ - (1.5*iqr_dmQ)\n",
    "\n",
    "outliers_dmQ = [(df['Democratic Quality']<= lb_dmQ) | (df['Democratic Quality'] >= ub_dmQ)]\n",
    "list(outliers_dmQ)\n",
    "res_dmQ = True in (outliers_dmQ > 10 for outliers_dmQ in df['Democratic Quality'])\n",
    "res_dmQ\n",
    "#outputs False if there are no outliers"
   ]
  },
  {
   "cell_type": "code",
   "execution_count": 12,
   "metadata": {},
   "outputs": [
    {
     "data": {
      "text/plain": [
       "False"
      ]
     },
     "execution_count": 12,
     "metadata": {},
     "output_type": "execute_result"
    }
   ],
   "source": [
    "q1_dq = np.quantile(df['Delivery Quality'], 0.25)\n",
    "q3_dq = np.quantile(df['Delivery Quality'], 0.75)\n",
    "med_dq = np.median(df['Delivery Quality'])\n",
    "iqr_dq = q3_dq - q1_dq\n",
    "ub_dq = q3_dq+(1.5*iqr_dq)\n",
    "lb_dq = q1_dq - (1.5*iqr_dq)\n",
    "\n",
    "outliers_dq = [(df['Delivery Quality']<= lb_dq) | (df['Delivery Quality'] >= ub_dq)]\n",
    "\n",
    "list(outliers_dq)\n",
    "res_dq = True in (outliers_dq > 10 for outliers_dq in df['Delivery Quality'])\n",
    "res_dq\n",
    "#outputs False if there are no outliers"
   ]
  },
  {
   "cell_type": "code",
   "execution_count": 13,
   "metadata": {},
   "outputs": [
    {
     "data": {
      "text/plain": [
       "False"
      ]
     },
     "execution_count": 13,
     "metadata": {},
     "output_type": "execute_result"
    }
   ],
   "source": [
    "q1_f = np.quantile(df['Freedom to make life choices'], 0.25)\n",
    "q3_f = np.quantile(df['Freedom to make life choices'], 0.75)\n",
    "med_f = np.median(df['Freedom to make life choices'])\n",
    "iqr_f = q3_f - q1_f\n",
    "ub_f = q3_f+(1.5*iqr_f)\n",
    "lb_f = q1_f - (1.5*iqr_f)\n",
    "\n",
    "outliers_f = [(df['Freedom to make life choices']<= lb_f) | (df['Freedom to make life choices'] >= ub_f)]\n",
    "list(outliers_f)\n",
    "res_f = True in (outliers_f > 10 for outliers_f in df['Freedom to make life choices'])\n",
    "res_f\n",
    "#outputs False if there are no outliers"
   ]
  },
  {
   "cell_type": "code",
   "execution_count": 14,
   "metadata": {},
   "outputs": [],
   "source": [
    "#next, dealing with the features that output 'True' when checking for outliers\n",
    "#this will be taken care of using winsorization\n",
    "#only healthy life expectancy came out as true\n",
    "df['Healthy life expectancy at birth'] = stats.mstats.winsorize(df['Healthy life expectancy at birth'], limits=[0.01, 0.01])\n"
   ]
  },
  {
   "cell_type": "markdown",
   "metadata": {},
   "source": [
    "## Part 3: Implement Your Project Plan\n",
    "\n",
    "<b>Task:</b> Use the rest of this notebook to carry out your project plan. You will:\n",
    "\n",
    "1. Prepare your data for your model and create features and a label.\n",
    "2. Fit your model to the training data and evaluate your model.\n",
    "3. Improve your model by performing model selection and/or feature selection techniques to find best model for your problem.\n",
    "\n",
    "\n",
    "Add code cells below and populate the notebook with commentary, code, analyses, results, and figures as you see fit."
   ]
  },
  {
   "cell_type": "code",
   "execution_count": 15,
   "metadata": {},
   "outputs": [
    {
     "data": {
      "text/html": [
       "<div>\n",
       "<style scoped>\n",
       "    .dataframe tbody tr th:only-of-type {\n",
       "        vertical-align: middle;\n",
       "    }\n",
       "\n",
       "    .dataframe tbody tr th {\n",
       "        vertical-align: top;\n",
       "    }\n",
       "\n",
       "    .dataframe thead th {\n",
       "        text-align: right;\n",
       "    }\n",
       "</style>\n",
       "<table border=\"1\" class=\"dataframe\">\n",
       "  <thead>\n",
       "    <tr style=\"text-align: right;\">\n",
       "      <th></th>\n",
       "      <th>Life Ladder</th>\n",
       "      <th>Log GDP per capita</th>\n",
       "      <th>Social support</th>\n",
       "      <th>Healthy life expectancy at birth</th>\n",
       "      <th>Freedom to make life choices</th>\n",
       "      <th>Perceptions of corruption</th>\n",
       "      <th>Confidence in national government</th>\n",
       "      <th>Democratic Quality</th>\n",
       "      <th>Delivery Quality</th>\n",
       "      <th>Standard deviation of ladder by country-year</th>\n",
       "      <th>Standard deviation/Mean of ladder by country-year</th>\n",
       "      <th>GINI index (World Bank estimate), average 2000-15</th>\n",
       "      <th>gini of household income reported in Gallup, by wp5-year</th>\n",
       "    </tr>\n",
       "  </thead>\n",
       "  <tbody>\n",
       "    <tr>\n",
       "      <th>0</th>\n",
       "      <td>3.723590</td>\n",
       "      <td>7.168690</td>\n",
       "      <td>0.450662</td>\n",
       "      <td>49.209663</td>\n",
       "      <td>0.718114</td>\n",
       "      <td>0.881686</td>\n",
       "      <td>0.612072</td>\n",
       "      <td>-1.929690</td>\n",
       "      <td>-1.655084</td>\n",
       "      <td>1.774662</td>\n",
       "      <td>0.476600</td>\n",
       "      <td>0.386948</td>\n",
       "      <td>0.445204</td>\n",
       "    </tr>\n",
       "    <tr>\n",
       "      <th>1</th>\n",
       "      <td>4.401778</td>\n",
       "      <td>7.333790</td>\n",
       "      <td>0.552308</td>\n",
       "      <td>49.624432</td>\n",
       "      <td>0.678896</td>\n",
       "      <td>0.850035</td>\n",
       "      <td>0.611545</td>\n",
       "      <td>-2.044093</td>\n",
       "      <td>-1.635025</td>\n",
       "      <td>1.722688</td>\n",
       "      <td>0.391362</td>\n",
       "      <td>0.386948</td>\n",
       "      <td>0.441906</td>\n",
       "    </tr>\n",
       "    <tr>\n",
       "      <th>2</th>\n",
       "      <td>4.758381</td>\n",
       "      <td>7.386629</td>\n",
       "      <td>0.539075</td>\n",
       "      <td>50.008961</td>\n",
       "      <td>0.600127</td>\n",
       "      <td>0.706766</td>\n",
       "      <td>0.299357</td>\n",
       "      <td>-1.991810</td>\n",
       "      <td>-1.617176</td>\n",
       "      <td>1.878622</td>\n",
       "      <td>0.394803</td>\n",
       "      <td>0.386948</td>\n",
       "      <td>0.327318</td>\n",
       "    </tr>\n",
       "    <tr>\n",
       "      <th>3</th>\n",
       "      <td>3.831719</td>\n",
       "      <td>7.415019</td>\n",
       "      <td>0.521104</td>\n",
       "      <td>50.367298</td>\n",
       "      <td>0.495901</td>\n",
       "      <td>0.731109</td>\n",
       "      <td>0.307386</td>\n",
       "      <td>-1.919018</td>\n",
       "      <td>-1.616221</td>\n",
       "      <td>1.785360</td>\n",
       "      <td>0.465942</td>\n",
       "      <td>0.386948</td>\n",
       "      <td>0.336764</td>\n",
       "    </tr>\n",
       "    <tr>\n",
       "      <th>4</th>\n",
       "      <td>3.782938</td>\n",
       "      <td>7.517126</td>\n",
       "      <td>0.520637</td>\n",
       "      <td>50.709263</td>\n",
       "      <td>0.530935</td>\n",
       "      <td>0.775620</td>\n",
       "      <td>0.435440</td>\n",
       "      <td>-1.842996</td>\n",
       "      <td>-1.404078</td>\n",
       "      <td>1.798283</td>\n",
       "      <td>0.475367</td>\n",
       "      <td>0.386948</td>\n",
       "      <td>0.344540</td>\n",
       "    </tr>\n",
       "  </tbody>\n",
       "</table>\n",
       "</div>"
      ],
      "text/plain": [
       "   Life Ladder  Log GDP per capita  Social support  \\\n",
       "0     3.723590            7.168690        0.450662   \n",
       "1     4.401778            7.333790        0.552308   \n",
       "2     4.758381            7.386629        0.539075   \n",
       "3     3.831719            7.415019        0.521104   \n",
       "4     3.782938            7.517126        0.520637   \n",
       "\n",
       "   Healthy life expectancy at birth  Freedom to make life choices  \\\n",
       "0                         49.209663                      0.718114   \n",
       "1                         49.624432                      0.678896   \n",
       "2                         50.008961                      0.600127   \n",
       "3                         50.367298                      0.495901   \n",
       "4                         50.709263                      0.530935   \n",
       "\n",
       "   Perceptions of corruption  Confidence in national government  \\\n",
       "0                   0.881686                           0.612072   \n",
       "1                   0.850035                           0.611545   \n",
       "2                   0.706766                           0.299357   \n",
       "3                   0.731109                           0.307386   \n",
       "4                   0.775620                           0.435440   \n",
       "\n",
       "   Democratic Quality  Delivery Quality  \\\n",
       "0           -1.929690         -1.655084   \n",
       "1           -2.044093         -1.635025   \n",
       "2           -1.991810         -1.617176   \n",
       "3           -1.919018         -1.616221   \n",
       "4           -1.842996         -1.404078   \n",
       "\n",
       "   Standard deviation of ladder by country-year  \\\n",
       "0                                      1.774662   \n",
       "1                                      1.722688   \n",
       "2                                      1.878622   \n",
       "3                                      1.785360   \n",
       "4                                      1.798283   \n",
       "\n",
       "   Standard deviation/Mean of ladder by country-year  \\\n",
       "0                                           0.476600   \n",
       "1                                           0.391362   \n",
       "2                                           0.394803   \n",
       "3                                           0.465942   \n",
       "4                                           0.475367   \n",
       "\n",
       "   GINI index (World Bank estimate), average 2000-15  \\\n",
       "0                                           0.386948   \n",
       "1                                           0.386948   \n",
       "2                                           0.386948   \n",
       "3                                           0.386948   \n",
       "4                                           0.386948   \n",
       "\n",
       "   gini of household income reported in Gallup, by wp5-year  \n",
       "0                                           0.445204         \n",
       "1                                           0.441906         \n",
       "2                                           0.327318         \n",
       "3                                           0.336764         \n",
       "4                                           0.344540         "
      ]
     },
     "execution_count": 15,
     "metadata": {},
     "output_type": "execute_result"
    }
   ],
   "source": [
    "#remove the column with too many missing values/ones that can't be used at this time\n",
    "#then save features to be used in X and the label in y\n",
    "X = df.drop(columns = ['Generosity', 'GINI index (World Bank estimate)', 'Positive affect', 'Negative affect', 'country', 'year'], axis=1)\n",
    "y = df['Generosity']\n",
    "\n",
    "#inspect the changed data\n",
    "X.head()\n"
   ]
  },
  {
   "cell_type": "code",
   "execution_count": 16,
   "metadata": {},
   "outputs": [],
   "source": [
    "#split data set for training/testing\n",
    "X_train, X_test, y_train, y_test= train_test_split(X, y, test_size=0.30, random_state=1234)"
   ]
  },
  {
   "cell_type": "code",
   "execution_count": 17,
   "metadata": {},
   "outputs": [],
   "source": [
    "#this cell is going to create the decisiontreeregressor \n",
    "\n",
    "def train_test_DT(X_train, X_test, y_train, y_test, leaf, depth):\n",
    "# 1. Create the DecisionTreeRegressor model object using the hyperparameter values above and assign to \n",
    "# variable 'dt_model'\n",
    "# YOUR CODE HERE\n",
    "    dt_model = DecisionTreeRegressor(max_depth=depth, min_samples_leaf = leaf)\n",
    "\n",
    "# 2. Fit the model to the training data below\n",
    "# YOUR CODE HERE\n",
    "    dt_model.fit(X_train, y_train)\n",
    "\n",
    "# 3.  Call predict() to use the fitted model to make predictions on the test data. Save the results to variable\n",
    "# 'y_dt_pred'\n",
    "# YOUR CODE HERE\n",
    "    y_dt_pred = dt_model.predict(X_test)\n",
    "\n",
    "# 4: Compute the RMSE and R2 (on y_test and y_dt_pred) and save the results to dt_rmse and dt_r2\n",
    "# YOUR CODE HERE\n",
    "    dt_rmse = mean_squared_error(y_test, y_dt_pred, squared=False)\n",
    "\n",
    "    dt_r2 = r2_score(y_test, y_dt_pred)\n",
    "\n",
    "    return dt_rmse, dt_r2"
   ]
  },
  {
   "cell_type": "code",
   "execution_count": 18,
   "metadata": {},
   "outputs": [
    {
     "name": "stdout",
     "output_type": "stream",
     "text": [
      "Max depth = 1 r2 and rmse scores = (0.14935470369495238, 0.15656624039284572)\n",
      "Max depth = 2 r2 and rmse scores = (0.13966587832790364, 0.26244603021900303)\n",
      "Max depth = 4 r2 and rmse scores = (0.13700213415074508, 0.29031138871085027)\n",
      "Max depth = 8 r2 and rmse scores = (0.1413334897796541, 0.24472808383174183)\n",
      "Max depth = 16 r2 and rmse scores = (0.13282740515495234, 0.3329036748362627)\n",
      "Max depth = 32 r2 and rmse scores = (0.13286038018280008, 0.33257241412439986)\n"
     ]
    }
   ],
   "source": [
    "#this cell is to find the best max depth for the decisiontree regressor\n",
    "max_depth_range = [2**i for i in range(6) ]\n",
    "\n",
    "dt_r_scores = []\n",
    "\n",
    "for md in max_depth_range:\n",
    "    dt_scores = train_test_DT(X_train, X_test, y_train, y_test, 1, md)\n",
    "    print('Max depth = ' + str(md) + ' r2 and rmse scores = ' + str(dt_scores))\n",
    "    dt_r_scores.append(float(dt_scores[0]))\n",
    "    dt_r_scores.append(float(dt_scores[1]))"
   ]
  },
  {
   "cell_type": "code",
   "execution_count": null,
   "metadata": {},
   "outputs": [],
   "source": []
  },
  {
   "cell_type": "code",
   "execution_count": 19,
   "metadata": {
    "scrolled": true
   },
   "outputs": [
    {
     "name": "stdout",
     "output_type": "stream",
     "text": [
      "Min sample leaf = 1 r2 and rmse scores = (0.1325327084428536, 0.33586048951821057)\n",
      "Min sample leaf = 2 r2 and rmse scores = (0.1317572878544172, 0.34360923192649195)\n",
      "Min sample leaf = 4 r2 and rmse scores = (0.13437623211931615, 0.31725568924263925)\n",
      "Min sample leaf = 8 r2 and rmse scores = (0.13343367492378608, 0.3268000648699919)\n",
      "Min sample leaf = 16 r2 and rmse scores = (0.13451462723567711, 0.3158486378013714)\n",
      "Min sample leaf = 32 r2 and rmse scores = (0.13444093036553895, 0.31659808792906274)\n",
      "Min sample leaf = 64 r2 and rmse scores = (0.1336460846217282, 0.3246550589802646)\n",
      "Min sample leaf = 128 r2 and rmse scores = (0.13893978733380175, 0.27009484536394057)\n",
      "Min sample leaf = 256 r2 and rmse scores = (0.14463539368397368, 0.20902576857129385)\n",
      "Min sample leaf = 512 r2 and rmse scores = (0.1578420774304418, 0.057982984304025376)\n",
      "Min sample leaf = 1024 r2 and rmse scores = (0.16277737606157994, -0.001846667759094478)\n",
      "Min sample leaf = 2048 r2 and rmse scores = (0.16277737606157994, -0.001846667759094478)\n",
      "Min sample leaf = 4096 r2 and rmse scores = (0.16277737606157994, -0.001846667759094478)\n",
      "Min sample leaf = 8192 r2 and rmse scores = (0.16277737606157994, -0.001846667759094478)\n",
      "Min sample leaf = 16384 r2 and rmse scores = (0.16277737606157994, -0.001846667759094478)\n",
      "Min sample leaf = 32768 r2 and rmse scores = (0.16277737606157994, -0.001846667759094478)\n",
      "Min sample leaf = 65536 r2 and rmse scores = (0.16277737606157994, -0.001846667759094478)\n",
      "Min sample leaf = 131072 r2 and rmse scores = (0.16277737606157994, -0.001846667759094478)\n",
      "Min sample leaf = 262144 r2 and rmse scores = (0.16277737606157994, -0.001846667759094478)\n",
      "Min sample leaf = 524288 r2 and rmse scores = (0.16277737606157994, -0.001846667759094478)\n",
      "Min sample leaf = 1048576 r2 and rmse scores = (0.16277737606157994, -0.001846667759094478)\n",
      "Min sample leaf = 2097152 r2 and rmse scores = (0.16277737606157994, -0.001846667759094478)\n",
      "Min sample leaf = 4194304 r2 and rmse scores = (0.16277737606157994, -0.001846667759094478)\n",
      "Min sample leaf = 8388608 r2 and rmse scores = (0.16277737606157994, -0.001846667759094478)\n",
      "Min sample leaf = 16777216 r2 and rmse scores = (0.16277737606157994, -0.001846667759094478)\n",
      "Min sample leaf = 33554432 r2 and rmse scores = (0.16277737606157994, -0.001846667759094478)\n",
      "Min sample leaf = 67108864 r2 and rmse scores = (0.16277737606157994, -0.001846667759094478)\n",
      "Min sample leaf = 134217728 r2 and rmse scores = (0.16277737606157994, -0.001846667759094478)\n",
      "Min sample leaf = 268435456 r2 and rmse scores = (0.16277737606157994, -0.001846667759094478)\n",
      "Min sample leaf = 536870912 r2 and rmse scores = (0.16277737606157994, -0.001846667759094478)\n",
      "Min sample leaf = 1073741824 r2 and rmse scores = (0.16277737606157994, -0.001846667759094478)\n",
      "Min sample leaf = 2147483648 r2 and rmse scores = (0.16277737606157994, -0.001846667759094478)\n",
      "Min sample leaf = 4294967296 r2 and rmse scores = (0.16277737606157994, -0.001846667759094478)\n",
      "Min sample leaf = 8589934592 r2 and rmse scores = (0.16277737606157994, -0.001846667759094478)\n",
      "Min sample leaf = 17179869184 r2 and rmse scores = (0.16277737606157994, -0.001846667759094478)\n",
      "Min sample leaf = 34359738368 r2 and rmse scores = (0.16277737606157994, -0.001846667759094478)\n",
      "Min sample leaf = 68719476736 r2 and rmse scores = (0.16277737606157994, -0.001846667759094478)\n",
      "Min sample leaf = 137438953472 r2 and rmse scores = (0.16277737606157994, -0.001846667759094478)\n",
      "Min sample leaf = 274877906944 r2 and rmse scores = (0.16277737606157994, -0.001846667759094478)\n",
      "Min sample leaf = 549755813888 r2 and rmse scores = (0.16277737606157994, -0.001846667759094478)\n",
      "Min sample leaf = 1099511627776 r2 and rmse scores = (0.16277737606157994, -0.001846667759094478)\n",
      "Min sample leaf = 2199023255552 r2 and rmse scores = (0.16277737606157994, -0.001846667759094478)\n",
      "Min sample leaf = 4398046511104 r2 and rmse scores = (0.16277737606157994, -0.001846667759094478)\n",
      "Min sample leaf = 8796093022208 r2 and rmse scores = (0.16277737606157994, -0.001846667759094478)\n",
      "Min sample leaf = 17592186044416 r2 and rmse scores = (0.16277737606157994, -0.001846667759094478)\n",
      "Min sample leaf = 35184372088832 r2 and rmse scores = (0.16277737606157994, -0.001846667759094478)\n",
      "Min sample leaf = 70368744177664 r2 and rmse scores = (0.16277737606157994, -0.001846667759094478)\n",
      "Min sample leaf = 140737488355328 r2 and rmse scores = (0.16277737606157994, -0.001846667759094478)\n",
      "Min sample leaf = 281474976710656 r2 and rmse scores = (0.16277737606157994, -0.001846667759094478)\n",
      "Min sample leaf = 562949953421312 r2 and rmse scores = (0.16277737606157994, -0.001846667759094478)\n"
     ]
    }
   ],
   "source": [
    "#it looks like the best max_depth was at 32\n",
    "#now to find the best min_sample_leaf\n",
    "min_sample_leaf_range = [2**i for i in range(50) ]\n",
    "\n",
    "dt_r_scores_msl = []\n",
    "\n",
    "for lf in min_sample_leaf_range:\n",
    "    dt_scores = train_test_DT(X_train, X_test, y_train, y_test, lf, 32)\n",
    "    print('Min sample leaf = ' + str(lf) + ' r2 and rmse scores = ' + str(dt_scores))\n",
    "    dt_r_scores_msl.append(float(dt_scores[0]))\n",
    "    dt_r_scores_msl.append(float(dt_scores[1]))\n"
   ]
  },
  {
   "cell_type": "code",
   "execution_count": 20,
   "metadata": {},
   "outputs": [
    {
     "name": "stdout",
     "output_type": "stream",
     "text": [
      "Running Grid Search...\n",
      "Done\n",
      "[DT] RMSE for the best model is : 0.13\n"
     ]
    }
   ],
   "source": [
    "#it looks like the best value was somewhere below 100 \n",
    "#here I try out a gridsearch as well just to verify if there's a better way to \n",
    "#hyperparameter values\n",
    "\n",
    "param_grid = {'max_depth': [4, 8], \n",
    "             'min_samples_leaf': [25, 50]}\n",
    "\n",
    "print('Running Grid Search...')\n",
    "\n",
    "# 1. Create a DecisionTreeRegressor model object without supplying arguments. \n",
    "#    Save the model object to the variable 'dt_regressor'\n",
    "\n",
    "dt_regressor = DecisionTreeRegressor()\n",
    "\n",
    "\n",
    "# 2. Run a Grid Search with 3-fold cross-validation and assign the output to the object 'dt_grid'.\n",
    "#    * Pass the model and the parameter grid to GridSearchCV()\n",
    "#    * Set the number of folds to 3\n",
    "#    * Specify the scoring method\n",
    "\n",
    "dt_grid = GridSearchCV(dt_regressor, param_grid, cv=3, scoring='neg_root_mean_squared_error')\n",
    "\n",
    "\n",
    "# 3. Fit the model (use the 'grid' variable) on the training data and assign the fitted model to the \n",
    "#    variable 'dt_grid_search'\n",
    "\n",
    "dt_grid_search = dt_grid.fit(X_train, y_train)\n",
    "\n",
    "\n",
    "print('Done')\n",
    "\n",
    "rmse_DT = -1 * dt_grid_search.best_score_\n",
    "print(\"[DT] RMSE for the best model is : {:.2f}\".format(rmse_DT) )"
   ]
  },
  {
   "cell_type": "code",
   "execution_count": 21,
   "metadata": {},
   "outputs": [
    {
     "data": {
      "text/plain": [
       "array([0.02822332, 0.16834715, 0.        , 0.        , 0.48785914])"
      ]
     },
     "execution_count": 21,
     "metadata": {},
     "output_type": "execute_result"
    }
   ],
   "source": [
    "#now to find the best features for the decisiontree model\n",
    "model_dt_test = DecisionTreeRegressor(max_depth=8, min_samples_leaf = 50)\n",
    "model_dt_test.fit(X_train, y_train)\n",
    "fi = model_dt_test.feature_importances_\n",
    "fi[:5]"
   ]
  },
  {
   "cell_type": "code",
   "execution_count": 22,
   "metadata": {},
   "outputs": [
    {
     "data": {
      "text/plain": [
       "Text(0, 0.5, 'Normalized importance')"
      ]
     },
     "execution_count": 22,
     "metadata": {},
     "output_type": "execute_result"
    },
    {
     "data": {
      "image/png": "[encoded data removed]",
      "text/plain": [
       "<Figure size 432x288 with 1 Axes>"
      ]
     },
     "metadata": {
      "needs_background": "light"
     },
     "output_type": "display_data"
    }
   ],
   "source": [
    "#obtain feature importance in decisiontree regressor \n",
    "fi = model_dt_test.feature_importances_\n",
    "names_sorted = [x for _,x in sorted(zip(fi, X_train.columns.values), reverse = True)]\n",
    "\n",
    "fig, ax = plt.subplots()\n",
    "\n",
    "ax.bar(np.arange(10), sorted(model_dt_test.feature_importances_, reverse=True)[:10], width=0.35)\n",
    "ax.set_xticks(np.arange(10))\n",
    "ax.set_xticklabels(names_sorted[:10], rotation=90)\n",
    "plt.title('Feature importance DT')\n",
    "ax.set_ylabel('Normalized importance')\n"
   ]
  },
  {
   "cell_type": "code",
   "execution_count": 23,
   "metadata": {},
   "outputs": [
    {
     "data": {
      "text/html": [
       "<div>\n",
       "<style scoped>\n",
       "    .dataframe tbody tr th:only-of-type {\n",
       "        vertical-align: middle;\n",
       "    }\n",
       "\n",
       "    .dataframe tbody tr th {\n",
       "        vertical-align: top;\n",
       "    }\n",
       "\n",
       "    .dataframe thead th {\n",
       "        text-align: right;\n",
       "    }\n",
       "</style>\n",
       "<table border=\"1\" class=\"dataframe\">\n",
       "  <thead>\n",
       "    <tr style=\"text-align: right;\">\n",
       "      <th></th>\n",
       "      <th>Log GDP per capita</th>\n",
       "      <th>Social support</th>\n",
       "      <th>Healthy life expectancy at birth</th>\n",
       "      <th>Freedom to make life choices</th>\n",
       "      <th>Perceptions of corruption</th>\n",
       "      <th>Confidence in national government</th>\n",
       "      <th>Democratic Quality</th>\n",
       "      <th>Delivery Quality</th>\n",
       "      <th>Standard deviation/Mean of ladder by country-year</th>\n",
       "      <th>GINI index (World Bank estimate), average 2000-15</th>\n",
       "    </tr>\n",
       "  </thead>\n",
       "  <tbody>\n",
       "    <tr>\n",
       "      <th>0</th>\n",
       "      <td>7.168690</td>\n",
       "      <td>0.450662</td>\n",
       "      <td>49.209663</td>\n",
       "      <td>0.718114</td>\n",
       "      <td>0.881686</td>\n",
       "      <td>0.612072</td>\n",
       "      <td>-1.929690</td>\n",
       "      <td>-1.655084</td>\n",
       "      <td>0.476600</td>\n",
       "      <td>0.386948</td>\n",
       "    </tr>\n",
       "    <tr>\n",
       "      <th>1</th>\n",
       "      <td>7.333790</td>\n",
       "      <td>0.552308</td>\n",
       "      <td>49.624432</td>\n",
       "      <td>0.678896</td>\n",
       "      <td>0.850035</td>\n",
       "      <td>0.611545</td>\n",
       "      <td>-2.044093</td>\n",
       "      <td>-1.635025</td>\n",
       "      <td>0.391362</td>\n",
       "      <td>0.386948</td>\n",
       "    </tr>\n",
       "    <tr>\n",
       "      <th>2</th>\n",
       "      <td>7.386629</td>\n",
       "      <td>0.539075</td>\n",
       "      <td>50.008961</td>\n",
       "      <td>0.600127</td>\n",
       "      <td>0.706766</td>\n",
       "      <td>0.299357</td>\n",
       "      <td>-1.991810</td>\n",
       "      <td>-1.617176</td>\n",
       "      <td>0.394803</td>\n",
       "      <td>0.386948</td>\n",
       "    </tr>\n",
       "    <tr>\n",
       "      <th>3</th>\n",
       "      <td>7.415019</td>\n",
       "      <td>0.521104</td>\n",
       "      <td>50.367298</td>\n",
       "      <td>0.495901</td>\n",
       "      <td>0.731109</td>\n",
       "      <td>0.307386</td>\n",
       "      <td>-1.919018</td>\n",
       "      <td>-1.616221</td>\n",
       "      <td>0.465942</td>\n",
       "      <td>0.386948</td>\n",
       "    </tr>\n",
       "    <tr>\n",
       "      <th>4</th>\n",
       "      <td>7.517126</td>\n",
       "      <td>0.520637</td>\n",
       "      <td>50.709263</td>\n",
       "      <td>0.530935</td>\n",
       "      <td>0.775620</td>\n",
       "      <td>0.435440</td>\n",
       "      <td>-1.842996</td>\n",
       "      <td>-1.404078</td>\n",
       "      <td>0.475367</td>\n",
       "      <td>0.386948</td>\n",
       "    </tr>\n",
       "  </tbody>\n",
       "</table>\n",
       "</div>"
      ],
      "text/plain": [
       "   Log GDP per capita  Social support  Healthy life expectancy at birth  \\\n",
       "0            7.168690        0.450662                         49.209663   \n",
       "1            7.333790        0.552308                         49.624432   \n",
       "2            7.386629        0.539075                         50.008961   \n",
       "3            7.415019        0.521104                         50.367298   \n",
       "4            7.517126        0.520637                         50.709263   \n",
       "\n",
       "   Freedom to make life choices  Perceptions of corruption  \\\n",
       "0                      0.718114                   0.881686   \n",
       "1                      0.678896                   0.850035   \n",
       "2                      0.600127                   0.706766   \n",
       "3                      0.495901                   0.731109   \n",
       "4                      0.530935                   0.775620   \n",
       "\n",
       "   Confidence in national government  Democratic Quality  Delivery Quality  \\\n",
       "0                           0.612072           -1.929690         -1.655084   \n",
       "1                           0.611545           -2.044093         -1.635025   \n",
       "2                           0.299357           -1.991810         -1.617176   \n",
       "3                           0.307386           -1.919018         -1.616221   \n",
       "4                           0.435440           -1.842996         -1.404078   \n",
       "\n",
       "   Standard deviation/Mean of ladder by country-year  \\\n",
       "0                                           0.476600   \n",
       "1                                           0.391362   \n",
       "2                                           0.394803   \n",
       "3                                           0.465942   \n",
       "4                                           0.475367   \n",
       "\n",
       "   GINI index (World Bank estimate), average 2000-15  \n",
       "0                                           0.386948  \n",
       "1                                           0.386948  \n",
       "2                                           0.386948  \n",
       "3                                           0.386948  \n",
       "4                                           0.386948  "
      ]
     },
     "execution_count": 23,
     "metadata": {},
     "output_type": "execute_result"
    }
   ],
   "source": [
    "#It looks like gini of houselhold income reported by wp5-year can be dropped\n",
    "#so can a few others\n",
    "X = df.drop(columns = ['Generosity', 'GINI index (World Bank estimate)', 'Positive affect', \n",
    "                       'Negative affect', 'country', 'year', 'gini of household income reported in Gallup, by wp5-year',\n",
    "                      'Standard deviation of ladder by country-year', 'Life Ladder'], axis=1)\n",
    "y = df['Generosity']\n",
    "\n",
    "#inspect the changed data\n",
    "X.head()\n"
   ]
  },
  {
   "cell_type": "code",
   "execution_count": 24,
   "metadata": {},
   "outputs": [],
   "source": [
    "#now to check the dt performance again by retraining it with those features removed\n",
    "model_dt_best = train_test_DT(X_train, X_test, y_train, y_test, 50, 8)\n",
    "dt_rmse, dt_r2 = model_dt_best"
   ]
  },
  {
   "cell_type": "code",
   "execution_count": 25,
   "metadata": {},
   "outputs": [],
   "source": [
    "#it seems like there's still work to be done for the decisiontree model, it's\n",
    "#improved but there's still room for improvements\n",
    "\n",
    "#for now I'll check to see how a gbdtregressor model does with this data"
   ]
  },
  {
   "cell_type": "code",
   "execution_count": 26,
   "metadata": {},
   "outputs": [
    {
     "name": "stdout",
     "output_type": "stream",
     "text": [
      "Running Grid Search...\n",
      "Done\n",
      "[DT] RMSE for the best model is : 0.10\n"
     ]
    }
   ],
   "source": [
    "print('Running Grid Search...')\n",
    "\n",
    "# 1. Create a DecisionTreeRegressor model object without supplying arguments. \n",
    "#    Save the model object to the variable 'dt_regressor'\n",
    "\n",
    "gbdt_regressor =GradientBoostingRegressor()\n",
    "\n",
    "\n",
    "# 2. Run a Grid Search with 3-fold cross-validation and assign the output to the object 'dt_grid'.\n",
    "#    * Pass the model and the parameter grid to GridSearchCV()\n",
    "#    * Set the number of folds to 3\n",
    "#    * Specify the scoring method\n",
    "\n",
    "gbdt_grid = GridSearchCV(gbdt_regressor, param_grid, cv=3, scoring='neg_root_mean_squared_error')\n",
    "\n",
    "\n",
    "# 3. Fit the model (use the 'grid' variable) on the training data and assign the fitted model to the \n",
    "#    variable 'dt_grid_search'\n",
    "\n",
    "gbdt_grid_search = gbdt_grid .fit(X_train, y_train)\n",
    "\n",
    "\n",
    "print('Done')\n",
    "\n",
    "rmse_GBDT = -1 * gbdt_grid_search.best_score_\n",
    "print(\"[DT] RMSE for the best model is : {:.2f}\".format(rmse_GBDT ) )"
   ]
  },
  {
   "cell_type": "code",
   "execution_count": 27,
   "metadata": {},
   "outputs": [
    {
     "data": {
      "text/plain": [
       "GradientBoostingRegressor(alpha=0.9, ccp_alpha=0.0, criterion='friedman_mse',\n",
       "                          init=None, learning_rate=0.1, loss='ls', max_depth=8,\n",
       "                          max_features=None, max_leaf_nodes=None,\n",
       "                          min_impurity_decrease=0.0, min_impurity_split=None,\n",
       "                          min_samples_leaf=25, min_samples_split=2,\n",
       "                          min_weight_fraction_leaf=0.0, n_estimators=100,\n",
       "                          n_iter_no_change=None, presort='deprecated',\n",
       "                          random_state=None, subsample=1.0, tol=0.0001,\n",
       "                          validation_fraction=0.1, verbose=0, warm_start=False)"
      ]
     },
     "execution_count": 27,
     "metadata": {},
     "output_type": "execute_result"
    }
   ],
   "source": [
    "gbdt_best_params = gbdt_grid_search.best_estimator_\n",
    "\n",
    "gbdt_best_params"
   ]
  },
  {
   "cell_type": "code",
   "execution_count": 28,
   "metadata": {},
   "outputs": [],
   "source": [
    "#it looks like max_depth = 8 and n_estimators=100  were the best"
   ]
  },
  {
   "cell_type": "code",
   "execution_count": 29,
   "metadata": {},
   "outputs": [],
   "source": [
    "#this cell is to create the gbdtregressor model \n",
    "def train_test_gbdt(X_train, X_test, y_train, y_test, estimate, depth):\n",
    "\n",
    "    print('Begin GBDT Implementation...')\n",
    "\n",
    "# 1. Create the  GradientBoostingRegressor model object below and assign to variable 'gbdt_model'\n",
    "# YOUR CODE HERE\n",
    "    gbdt_model = GradientBoostingRegressor(max_depth=depth, n_estimators=estimate)\n",
    "\n",
    "# 2. Fit the model to the training data below\n",
    "# YOUR CODE HERE\n",
    "    gbdt_model.fit(X_train, y_train)\n",
    "\n",
    "# 3. Call predict() to use the fitted model to make predictions on the test data. Save the results to variable\n",
    "# 'y_gbdt_pred'\n",
    "# YOUR CODE HERE\n",
    "    y_gbdt_pred = gbdt_model.predict(X_test)\n",
    "\n",
    "# 4. Compute the RMSE and R2 (on y_test and y_gbdt_pred) and save the results to gbdt_rmse and gbdt_r2\n",
    "# YOUR CODE HERE\n",
    "    gbdt_rmse = mean_squared_error(y_test, y_gbdt_pred, squared=False)\n",
    "\n",
    "    gbdt_r2 = r2_score(y_test, y_gbdt_pred)\n",
    "    print('Done')\n",
    "\n",
    "    return gbdt_rmse, gbdt_r2\n",
    "\n"
   ]
  },
  {
   "cell_type": "code",
   "execution_count": 30,
   "metadata": {},
   "outputs": [
    {
     "name": "stdout",
     "output_type": "stream",
     "text": [
      "Begin GBDT Implementation...\n",
      "Done\n"
     ]
    }
   ],
   "source": [
    "#now to use the best parameters that were found from the gridsearch\n",
    "gbdt_best = train_test_gbdt(X_train, X_test, y_train, y_test, depth=8, estimate=100)\n",
    "\n",
    "\n",
    "gbdt_rmse, gbdt_r2 = gbdt_best"
   ]
  },
  {
   "cell_type": "code",
   "execution_count": 31,
   "metadata": {},
   "outputs": [],
   "source": [
    "#more work needs to be done there as well, but the scores do look better than the\n",
    "#dt model\n",
    "\n",
    "#I'll see how the rf model does next"
   ]
  },
  {
   "cell_type": "code",
   "execution_count": 32,
   "metadata": {},
   "outputs": [
    {
     "name": "stdout",
     "output_type": "stream",
     "text": [
      "Running Grid Search...\n",
      "Done\n",
      "[DT] RMSE for the best model is : 0.13\n"
     ]
    }
   ],
   "source": [
    "print('Running Grid Search...')\n",
    "\n",
    "# 1. Create a DecisionTreeRegressor model object without supplying arguments. \n",
    "#    Save the model object to the variable 'dt_regressor'\n",
    "\n",
    "rf_regressor =RandomForestRegressor()\n",
    "\n",
    "\n",
    "# 2. Run a Grid Search with 3-fold cross-validation and assign the output to the object 'dt_grid'.\n",
    "#    * Pass the model and the parameter grid to GridSearchCV()\n",
    "#    * Set the number of folds to 3\n",
    "#    * Specify the scoring method\n",
    "\n",
    "rf_grid = GridSearchCV(rf_regressor, param_grid, cv=3, scoring='neg_root_mean_squared_error')\n",
    "\n",
    "\n",
    "# 3. Fit the model (use the 'grid' variable) on the training data and assign the fitted model to the \n",
    "#    variable 'dt_grid_search'\n",
    "\n",
    "rf_grid_search = rf_grid .fit(X_train, y_train)\n",
    "\n",
    "\n",
    "print('Done')\n",
    "\n",
    "rmse_rf = -1 * rf_grid_search.best_score_\n",
    "print(\"[DT] RMSE for the best model is : {:.2f}\".format(rmse_rf) )"
   ]
  },
  {
   "cell_type": "code",
   "execution_count": 33,
   "metadata": {},
   "outputs": [
    {
     "data": {
      "text/plain": [
       "RandomForestRegressor(bootstrap=True, ccp_alpha=0.0, criterion='mse',\n",
       "                      max_depth=8, max_features='auto', max_leaf_nodes=None,\n",
       "                      max_samples=None, min_impurity_decrease=0.0,\n",
       "                      min_impurity_split=None, min_samples_leaf=25,\n",
       "                      min_samples_split=2, min_weight_fraction_leaf=0.0,\n",
       "                      n_estimators=100, n_jobs=None, oob_score=False,\n",
       "                      random_state=None, verbose=0, warm_start=False)"
      ]
     },
     "execution_count": 33,
     "metadata": {},
     "output_type": "execute_result"
    }
   ],
   "source": [
    "rf_best_params = rf_grid_search.best_estimator_\n",
    "\n",
    "rf_best_params"
   ]
  },
  {
   "cell_type": "code",
   "execution_count": 34,
   "metadata": {},
   "outputs": [],
   "source": [
    "#this cell is going to create the randomforestregressor\n",
    "\n",
    "def train_test_rf(X_train, X_test, y_train, y_test):\n",
    "    print('Begin RF Implementation...')\n",
    "\n",
    "# 1. Create the  RandomForestRegressor model object below and assign to variable 'rf_model'\n",
    "# YOUR CODE HERE\n",
    "    rf_model = RandomForestRegressor(max_depth=8, n_estimators=100)\n",
    "\n",
    "# 2. Fit the model to the training data below\n",
    "# YOUR CODE HERE\n",
    "    rf_model.fit(X_train, y_train)\n",
    "\n",
    "# 3. Call predict() to use the fitted model to make predictions on the test data. Save the results to variable\n",
    "# 'y_rf_pred'\n",
    "# YOUR CODE HERE\n",
    "    y_rf_pred = rf_model.predict(X_test)\n",
    "\n",
    "# 4. Compute the RMSE and R2 (on y_test and y_rf_pred) and save the results to rf_rmse and rf_r2\n",
    "# YOUR CODE HERE\n",
    "    rf_rmse = mean_squared_error(y_test, y_rf_pred, squared=False)\n",
    "    rf_r2 = r2_score(y_test, y_rf_pred)\n",
    "\n",
    "\n",
    "    print('End')\n",
    "    \n",
    "    return rf_rmse, rf_r2\n"
   ]
  },
  {
   "cell_type": "code",
   "execution_count": 35,
   "metadata": {},
   "outputs": [
    {
     "name": "stdout",
     "output_type": "stream",
     "text": [
      "Begin RF Implementation...\n",
      "End\n"
     ]
    }
   ],
   "source": [
    "#now to call the rf regressor using those hyperparameters\n",
    "rf_best = train_test_rf(X_train, X_test, y_train, y_test)\n",
    "rf_best\n",
    "rf_rmse, rf_r2 = rf_best"
   ]
  },
  {
   "cell_type": "code",
   "execution_count": 36,
   "metadata": {},
   "outputs": [
    {
     "data": {
      "text/plain": [
       "0.09988506128639577"
      ]
     },
     "execution_count": 36,
     "metadata": {},
     "output_type": "execute_result"
    }
   ],
   "source": [
    "#it's comparable to the gbdt model\n",
    "\n",
    "#I thought it might be interesting to experiment with a stacking model as well, so i included\n",
    "#that in here\n",
    "estimators = [(\"DT\", DecisionTreeRegressor(max_depth=8, min_samples_leaf=50)),\n",
    "              (\"RF\", RandomForestRegressor(max_depth=8, n_estimators=100,min_samples_leaf=25)),\n",
    "              (\"GBDT\", GradientBoostingRegressor(max_depth=8, n_estimators=100))]\n",
    "\n",
    "stacking_model = StackingRegressor(estimators=estimators, cv=5, passthrough=False)\n",
    "#fit the stacking model\n",
    "stacking_model.fit(X_train, y_train)\n",
    "\n",
    "#call predict() to the fitted model\n",
    "\n",
    "y_st_pred= stacking_model.predict(X_test)\n",
    "\n",
    "#Compute the RMSE and R2\n",
    "st_rmse = mean_squared_error(y_test, y_st_pred, squared=False)\n",
    "st_r2 = r2_score(y_test, y_st_pred)\n",
    "\n",
    "st_rmse\n"
   ]
  },
  {
   "cell_type": "code",
   "execution_count": 37,
   "metadata": {},
   "outputs": [
    {
     "data": {
      "text/plain": [
       "0.6227630265053903"
      ]
     },
     "execution_count": 37,
     "metadata": {},
     "output_type": "execute_result"
    }
   ],
   "source": [
    "st_r2 "
   ]
  },
  {
   "cell_type": "code",
   "execution_count": 38,
   "metadata": {},
   "outputs": [],
   "source": [
    "#the ensemble methods seem to be doing alright but it can be improved as well\n",
    "#with further work"
   ]
  },
  {
   "cell_type": "code",
   "execution_count": 39,
   "metadata": {},
   "outputs": [
    {
     "data": {
      "image/png": "[encoded data removed]",
      "text/plain": [
       "<Figure size 432x288 with 1 Axes>"
      ]
     },
     "metadata": {
      "needs_background": "light"
     },
     "output_type": "display_data"
    }
   ],
   "source": [
    "#this cell is going to visualize model performance\n",
    "\n",
    "RMSE_Results = [st_rmse, dt_rmse, gbdt_rmse, rf_rmse]\n",
    "R2_Results = [st_r2, dt_r2, gbdt_r2, rf_r2]\n",
    "labels = ['Stack', 'DT', 'GBDT', 'RF']\n",
    "\n",
    "rg= np.arange(4)\n",
    "width = 0.35\n",
    "\n",
    "# 1. Create bar plot with RMSE results\n",
    "# YOUR CODE HERE\n",
    "plt.bar(rg, RMSE_Results, width, label=\"RMSE\")\n",
    "# 2. Create bar plot with R2 results\n",
    "# YOUR CODE HERE\n",
    "plt.bar(rg+width, R2_Results, width, label='R2')\n",
    "\n",
    "# 3. Call plt.xticks() to add labels under the bars indicating which model the pair of RMSE \n",
    "# and R2 bars correspond to\n",
    "# YOUR CODE HERE\n",
    "plt.xticks(rg + width/2, labels)\n",
    "\n",
    "# 4. Label the x and y axis of the plot: the x axis should be labeled \"Models\" and the y axis\n",
    "# should be labeled \"RMSE and R2\"\n",
    "# YOUR CODE HERE\n",
    "plt.xlabel(\"Models\")\n",
    "plt.ylabel(\"RMSE and R2\")\n",
    "\n",
    "plt.ylim([0,1])\n",
    "plt.title('Model Performance')\n",
    "plt.legend(loc='upper left', ncol=2)\n",
    "plt.show()\n"
   ]
  }
 ],
 "metadata": {
  "kernelspec": {
   "display_name": "Python 3",
   "language": "python",
   "name": "python3"
  },
  "language_info": {
   "codemirror_mode": {
    "name": "ipython",
    "version": 3
   },
   "file_extension": ".py",
   "mimetype": "text/x-python",
   "name": "python",
   "nbconvert_exporter": "python",
   "pygments_lexer": "ipython3",
   "version": "3.6.9"
  },
  "toc": {
   "base_numbering": 1,
   "nav_menu": {},
   "number_sections": false,
   "sideBar": true,
   "skip_h1_title": false,
   "title_cell": "Table of Contents",
   "title_sidebar": "Contents",
   "toc_cell": false,
   "toc_position": {},
   "toc_section_display": true,
   "toc_window_display": false
  },
  "varInspector": {
   "cols": {
    "lenName": 16,
    "lenType": 16,
    "lenVar": 40
   },
   "kernels_config": {
    "python": {
     "delete_cmd_postfix": "",
     "delete_cmd_prefix": "del ",
     "library": "var_list.py",
     "varRefreshCmd": "print(var_dic_list())"
    },
    "r": {
     "delete_cmd_postfix": ") ",
     "delete_cmd_prefix": "rm(",
     "library": "var_list.r",
     "varRefreshCmd": "cat(var_dic_list()) "
    }
   },
   "types_to_exclude": [
    "module",
    "function",
    "builtin_function_or_method",
    "instance",
    "_Feature"
   ],
   "window_display": false
  }
 },
 "nbformat": 4,
 "nbformat_minor": 2
}
